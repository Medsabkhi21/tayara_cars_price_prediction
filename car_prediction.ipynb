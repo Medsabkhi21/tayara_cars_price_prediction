{
 "cells": [
  {
   "cell_type": "code",
   "execution_count": 1,
   "metadata": {},
   "outputs": [],
   "source": [
    "import pandas as pd\n",
    "import numpy as np\n",
    "import seaborn as sns\n",
    "\n",
    "import matplotlib.pyplot as plt\n",
    "%matplotlib inline"
   ]
  },
  {
   "cell_type": "code",
   "execution_count": 2,
   "metadata": {},
   "outputs": [],
   "source": [
    "df=pd.read_csv(\"cleaned_tayara_cars2.0.csv\")"
   ]
  },
  {
   "cell_type": "code",
   "execution_count": 3,
   "metadata": {},
   "outputs": [
    {
     "name": "stdout",
     "output_type": "stream",
     "text": [
      "nb of brands 23\n",
      "nb of fuel types 2\n",
      "nb of cities 24\n",
      "nb of car models 400\n"
     ]
    }
   ],
   "source": [
    "print(\"nb of brands \"+str(df[\"brand\"].nunique()))\n",
    "print(\"nb of fuel types \"+str(df[\"Fuel_Type\"].nunique()))\n",
    "print(\"nb of cities \"+str(df[\"city\"].nunique()))\n",
    "print(\"nb of car models \"+str(df[\"model\"].nunique()))"
   ]
  },
  {
   "cell_type": "code",
   "execution_count": 4,
   "metadata": {},
   "outputs": [
    {
     "data": {
      "text/html": [
       "<div>\n",
       "<style scoped>\n",
       "    .dataframe tbody tr th:only-of-type {\n",
       "        vertical-align: middle;\n",
       "    }\n",
       "\n",
       "    .dataframe tbody tr th {\n",
       "        vertical-align: top;\n",
       "    }\n",
       "\n",
       "    .dataframe thead th {\n",
       "        text-align: right;\n",
       "    }\n",
       "</style>\n",
       "<table border=\"1\" class=\"dataframe\">\n",
       "  <thead>\n",
       "    <tr style=\"text-align: right;\">\n",
       "      <th></th>\n",
       "      <th>brand</th>\n",
       "      <th>model</th>\n",
       "      <th>Fuel_Type</th>\n",
       "      <th>Horse_pow</th>\n",
       "      <th>city</th>\n",
       "      <th>nb_year</th>\n",
       "      <th>log_price</th>\n",
       "      <th>log_Kms_Driven</th>\n",
       "    </tr>\n",
       "  </thead>\n",
       "  <tbody>\n",
       "    <tr>\n",
       "      <th>0</th>\n",
       "      <td>Volkswagen</td>\n",
       "      <td>Polo</td>\n",
       "      <td>Diesel</td>\n",
       "      <td>4.0</td>\n",
       "      <td>Ben arous</td>\n",
       "      <td>0</td>\n",
       "      <td>4.096910</td>\n",
       "      <td>0.000000</td>\n",
       "    </tr>\n",
       "    <tr>\n",
       "      <th>1</th>\n",
       "      <td>Opel</td>\n",
       "      <td>Astra</td>\n",
       "      <td>Diesel</td>\n",
       "      <td>1.0</td>\n",
       "      <td>Tunis</td>\n",
       "      <td>13</td>\n",
       "      <td>4.332438</td>\n",
       "      <td>5.255273</td>\n",
       "    </tr>\n",
       "    <tr>\n",
       "      <th>2</th>\n",
       "      <td>Volkswagen</td>\n",
       "      <td>Polo</td>\n",
       "      <td>Diesel</td>\n",
       "      <td>4.0</td>\n",
       "      <td>Ben arous</td>\n",
       "      <td>0</td>\n",
       "      <td>4.096910</td>\n",
       "      <td>0.000000</td>\n",
       "    </tr>\n",
       "    <tr>\n",
       "      <th>3</th>\n",
       "      <td>Opel</td>\n",
       "      <td>Astra</td>\n",
       "      <td>Diesel</td>\n",
       "      <td>1.0</td>\n",
       "      <td>Tunis</td>\n",
       "      <td>13</td>\n",
       "      <td>4.332438</td>\n",
       "      <td>5.255273</td>\n",
       "    </tr>\n",
       "    <tr>\n",
       "      <th>4</th>\n",
       "      <td>Volkswagen</td>\n",
       "      <td>Polo</td>\n",
       "      <td>Essence</td>\n",
       "      <td>5.0</td>\n",
       "      <td>Tunis</td>\n",
       "      <td>2</td>\n",
       "      <td>4.653213</td>\n",
       "      <td>4.462398</td>\n",
       "    </tr>\n",
       "  </tbody>\n",
       "</table>\n",
       "</div>"
      ],
      "text/plain": [
       "        brand  model Fuel_Type  Horse_pow       city  nb_year  log_price  \\\n",
       "0  Volkswagen   Polo    Diesel        4.0  Ben arous        0   4.096910   \n",
       "1        Opel  Astra    Diesel        1.0      Tunis       13   4.332438   \n",
       "2  Volkswagen   Polo    Diesel        4.0  Ben arous        0   4.096910   \n",
       "3        Opel  Astra    Diesel        1.0      Tunis       13   4.332438   \n",
       "4  Volkswagen   Polo   Essence        5.0      Tunis        2   4.653213   \n",
       "\n",
       "   log_Kms_Driven  \n",
       "0        0.000000  \n",
       "1        5.255273  \n",
       "2        0.000000  \n",
       "3        5.255273  \n",
       "4        4.462398  "
      ]
     },
     "execution_count": 4,
     "metadata": {},
     "output_type": "execute_result"
    }
   ],
   "source": [
    "df.drop([\"price\"],axis=1,inplace=True)\n",
    "df.drop([\"Unnamed: 0\"],axis=1,inplace=True)\n",
    "df.drop([\"Kms_Driven\"],axis=1,inplace=True)\n",
    "df.drop([\"year\"],axis=1,inplace=True)\n",
    "df.head()"
   ]
  },
  {
   "cell_type": "code",
   "execution_count": null,
   "metadata": {},
   "outputs": [],
   "source": []
  },
  {
   "cell_type": "code",
   "execution_count": 5,
   "metadata": {},
   "outputs": [
    {
     "data": {
      "text/html": [
       "<div>\n",
       "<style scoped>\n",
       "    .dataframe tbody tr th:only-of-type {\n",
       "        vertical-align: middle;\n",
       "    }\n",
       "\n",
       "    .dataframe tbody tr th {\n",
       "        vertical-align: top;\n",
       "    }\n",
       "\n",
       "    .dataframe thead th {\n",
       "        text-align: right;\n",
       "    }\n",
       "</style>\n",
       "<table border=\"1\" class=\"dataframe\">\n",
       "  <thead>\n",
       "    <tr style=\"text-align: right;\">\n",
       "      <th></th>\n",
       "      <th>brand</th>\n",
       "      <th>Fuel_Type</th>\n",
       "      <th>Horse_pow</th>\n",
       "      <th>city</th>\n",
       "      <th>nb_year</th>\n",
       "      <th>log_price</th>\n",
       "      <th>log_Kms_Driven</th>\n",
       "      <th>model_freq_encode</th>\n",
       "    </tr>\n",
       "  </thead>\n",
       "  <tbody>\n",
       "    <tr>\n",
       "      <th>0</th>\n",
       "      <td>Volkswagen</td>\n",
       "      <td>Diesel</td>\n",
       "      <td>4.0</td>\n",
       "      <td>Ben arous</td>\n",
       "      <td>0</td>\n",
       "      <td>4.096910</td>\n",
       "      <td>0.000000</td>\n",
       "      <td>0.053937</td>\n",
       "    </tr>\n",
       "    <tr>\n",
       "      <th>1</th>\n",
       "      <td>Opel</td>\n",
       "      <td>Diesel</td>\n",
       "      <td>1.0</td>\n",
       "      <td>Tunis</td>\n",
       "      <td>13</td>\n",
       "      <td>4.332438</td>\n",
       "      <td>5.255273</td>\n",
       "      <td>0.013065</td>\n",
       "    </tr>\n",
       "    <tr>\n",
       "      <th>2</th>\n",
       "      <td>Volkswagen</td>\n",
       "      <td>Diesel</td>\n",
       "      <td>4.0</td>\n",
       "      <td>Ben arous</td>\n",
       "      <td>0</td>\n",
       "      <td>4.096910</td>\n",
       "      <td>0.000000</td>\n",
       "      <td>0.053937</td>\n",
       "    </tr>\n",
       "    <tr>\n",
       "      <th>3</th>\n",
       "      <td>Opel</td>\n",
       "      <td>Diesel</td>\n",
       "      <td>1.0</td>\n",
       "      <td>Tunis</td>\n",
       "      <td>13</td>\n",
       "      <td>4.332438</td>\n",
       "      <td>5.255273</td>\n",
       "      <td>0.013065</td>\n",
       "    </tr>\n",
       "    <tr>\n",
       "      <th>4</th>\n",
       "      <td>Volkswagen</td>\n",
       "      <td>Essence</td>\n",
       "      <td>5.0</td>\n",
       "      <td>Tunis</td>\n",
       "      <td>2</td>\n",
       "      <td>4.653213</td>\n",
       "      <td>4.462398</td>\n",
       "      <td>0.053937</td>\n",
       "    </tr>\n",
       "  </tbody>\n",
       "</table>\n",
       "</div>"
      ],
      "text/plain": [
       "        brand Fuel_Type  Horse_pow       city  nb_year  log_price  \\\n",
       "0  Volkswagen    Diesel        4.0  Ben arous        0   4.096910   \n",
       "1        Opel    Diesel        1.0      Tunis       13   4.332438   \n",
       "2  Volkswagen    Diesel        4.0  Ben arous        0   4.096910   \n",
       "3        Opel    Diesel        1.0      Tunis       13   4.332438   \n",
       "4  Volkswagen   Essence        5.0      Tunis        2   4.653213   \n",
       "\n",
       "   log_Kms_Driven  model_freq_encode  \n",
       "0        0.000000           0.053937  \n",
       "1        5.255273           0.013065  \n",
       "2        0.000000           0.053937  \n",
       "3        5.255273           0.013065  \n",
       "4        4.462398           0.053937  "
      ]
     },
     "execution_count": 5,
     "metadata": {},
     "output_type": "execute_result"
    }
   ],
   "source": [
    "#encoding model frequency\n",
    "model_frequency  = df.groupby('model').size()/len(df)\n",
    "df.loc[:,'model_freq_encode'] = df['model'].map(model_frequency)\n",
    "\n",
    "df.drop([\"model\"],axis=1,inplace=True)\n",
    "\n",
    "df.head()"
   ]
  },
  {
   "cell_type": "code",
   "execution_count": 6,
   "metadata": {},
   "outputs": [
    {
     "data": {
      "text/html": [
       "<div>\n",
       "<style scoped>\n",
       "    .dataframe tbody tr th:only-of-type {\n",
       "        vertical-align: middle;\n",
       "    }\n",
       "\n",
       "    .dataframe tbody tr th {\n",
       "        vertical-align: top;\n",
       "    }\n",
       "\n",
       "    .dataframe thead th {\n",
       "        text-align: right;\n",
       "    }\n",
       "</style>\n",
       "<table border=\"1\" class=\"dataframe\">\n",
       "  <thead>\n",
       "    <tr style=\"text-align: right;\">\n",
       "      <th></th>\n",
       "      <th>Fuel_Type</th>\n",
       "      <th>Horse_pow</th>\n",
       "      <th>city</th>\n",
       "      <th>nb_year</th>\n",
       "      <th>log_price</th>\n",
       "      <th>log_Kms_Driven</th>\n",
       "      <th>model_freq_encode</th>\n",
       "      <th>brand_freq_encode</th>\n",
       "    </tr>\n",
       "  </thead>\n",
       "  <tbody>\n",
       "    <tr>\n",
       "      <th>0</th>\n",
       "      <td>Diesel</td>\n",
       "      <td>4.0</td>\n",
       "      <td>Ben arous</td>\n",
       "      <td>0</td>\n",
       "      <td>4.096910</td>\n",
       "      <td>0.000000</td>\n",
       "      <td>0.053937</td>\n",
       "      <td>0.155460</td>\n",
       "    </tr>\n",
       "    <tr>\n",
       "      <th>1</th>\n",
       "      <td>Diesel</td>\n",
       "      <td>1.0</td>\n",
       "      <td>Tunis</td>\n",
       "      <td>13</td>\n",
       "      <td>4.332438</td>\n",
       "      <td>5.255273</td>\n",
       "      <td>0.013065</td>\n",
       "      <td>0.035479</td>\n",
       "    </tr>\n",
       "    <tr>\n",
       "      <th>2</th>\n",
       "      <td>Diesel</td>\n",
       "      <td>4.0</td>\n",
       "      <td>Ben arous</td>\n",
       "      <td>0</td>\n",
       "      <td>4.096910</td>\n",
       "      <td>0.000000</td>\n",
       "      <td>0.053937</td>\n",
       "      <td>0.155460</td>\n",
       "    </tr>\n",
       "    <tr>\n",
       "      <th>3</th>\n",
       "      <td>Diesel</td>\n",
       "      <td>1.0</td>\n",
       "      <td>Tunis</td>\n",
       "      <td>13</td>\n",
       "      <td>4.332438</td>\n",
       "      <td>5.255273</td>\n",
       "      <td>0.013065</td>\n",
       "      <td>0.035479</td>\n",
       "    </tr>\n",
       "    <tr>\n",
       "      <th>4</th>\n",
       "      <td>Essence</td>\n",
       "      <td>5.0</td>\n",
       "      <td>Tunis</td>\n",
       "      <td>2</td>\n",
       "      <td>4.653213</td>\n",
       "      <td>4.462398</td>\n",
       "      <td>0.053937</td>\n",
       "      <td>0.155460</td>\n",
       "    </tr>\n",
       "  </tbody>\n",
       "</table>\n",
       "</div>"
      ],
      "text/plain": [
       "  Fuel_Type  Horse_pow       city  nb_year  log_price  log_Kms_Driven  \\\n",
       "0    Diesel        4.0  Ben arous        0   4.096910        0.000000   \n",
       "1    Diesel        1.0      Tunis       13   4.332438        5.255273   \n",
       "2    Diesel        4.0  Ben arous        0   4.096910        0.000000   \n",
       "3    Diesel        1.0      Tunis       13   4.332438        5.255273   \n",
       "4   Essence        5.0      Tunis        2   4.653213        4.462398   \n",
       "\n",
       "   model_freq_encode  brand_freq_encode  \n",
       "0           0.053937           0.155460  \n",
       "1           0.013065           0.035479  \n",
       "2           0.053937           0.155460  \n",
       "3           0.013065           0.035479  \n",
       "4           0.053937           0.155460  "
      ]
     },
     "execution_count": 6,
     "metadata": {},
     "output_type": "execute_result"
    }
   ],
   "source": [
    "#encoding brand frequency\n",
    "brand_frequency  = df.groupby('brand').size()/len(df)\n",
    "df.loc[:,'brand_freq_encode'] = df['brand'].map(brand_frequency)\n",
    "df.drop([\"brand\"],axis=1,inplace=True)\n",
    "\n",
    "df.head()"
   ]
  },
  {
   "cell_type": "code",
   "execution_count": 7,
   "metadata": {},
   "outputs": [
    {
     "data": {
      "text/html": [
       "<div>\n",
       "<style scoped>\n",
       "    .dataframe tbody tr th:only-of-type {\n",
       "        vertical-align: middle;\n",
       "    }\n",
       "\n",
       "    .dataframe tbody tr th {\n",
       "        vertical-align: top;\n",
       "    }\n",
       "\n",
       "    .dataframe thead th {\n",
       "        text-align: right;\n",
       "    }\n",
       "</style>\n",
       "<table border=\"1\" class=\"dataframe\">\n",
       "  <thead>\n",
       "    <tr style=\"text-align: right;\">\n",
       "      <th></th>\n",
       "      <th>Fuel_Type</th>\n",
       "      <th>Horse_pow</th>\n",
       "      <th>nb_year</th>\n",
       "      <th>log_price</th>\n",
       "      <th>log_Kms_Driven</th>\n",
       "      <th>model_freq_encode</th>\n",
       "      <th>brand_freq_encode</th>\n",
       "      <th>city_freq_encode</th>\n",
       "    </tr>\n",
       "  </thead>\n",
       "  <tbody>\n",
       "    <tr>\n",
       "      <th>0</th>\n",
       "      <td>Diesel</td>\n",
       "      <td>4.0</td>\n",
       "      <td>0</td>\n",
       "      <td>4.096910</td>\n",
       "      <td>0.000000</td>\n",
       "      <td>0.053937</td>\n",
       "      <td>0.155460</td>\n",
       "      <td>0.101762</td>\n",
       "    </tr>\n",
       "    <tr>\n",
       "      <th>1</th>\n",
       "      <td>Diesel</td>\n",
       "      <td>1.0</td>\n",
       "      <td>13</td>\n",
       "      <td>4.332438</td>\n",
       "      <td>5.255273</td>\n",
       "      <td>0.013065</td>\n",
       "      <td>0.035479</td>\n",
       "      <td>0.311998</td>\n",
       "    </tr>\n",
       "    <tr>\n",
       "      <th>2</th>\n",
       "      <td>Diesel</td>\n",
       "      <td>4.0</td>\n",
       "      <td>0</td>\n",
       "      <td>4.096910</td>\n",
       "      <td>0.000000</td>\n",
       "      <td>0.053937</td>\n",
       "      <td>0.155460</td>\n",
       "      <td>0.101762</td>\n",
       "    </tr>\n",
       "    <tr>\n",
       "      <th>3</th>\n",
       "      <td>Diesel</td>\n",
       "      <td>1.0</td>\n",
       "      <td>13</td>\n",
       "      <td>4.332438</td>\n",
       "      <td>5.255273</td>\n",
       "      <td>0.013065</td>\n",
       "      <td>0.035479</td>\n",
       "      <td>0.311998</td>\n",
       "    </tr>\n",
       "    <tr>\n",
       "      <th>4</th>\n",
       "      <td>Essence</td>\n",
       "      <td>5.0</td>\n",
       "      <td>2</td>\n",
       "      <td>4.653213</td>\n",
       "      <td>4.462398</td>\n",
       "      <td>0.053937</td>\n",
       "      <td>0.155460</td>\n",
       "      <td>0.311998</td>\n",
       "    </tr>\n",
       "  </tbody>\n",
       "</table>\n",
       "</div>"
      ],
      "text/plain": [
       "  Fuel_Type  Horse_pow  nb_year  log_price  log_Kms_Driven  model_freq_encode  \\\n",
       "0    Diesel        4.0        0   4.096910        0.000000           0.053937   \n",
       "1    Diesel        1.0       13   4.332438        5.255273           0.013065   \n",
       "2    Diesel        4.0        0   4.096910        0.000000           0.053937   \n",
       "3    Diesel        1.0       13   4.332438        5.255273           0.013065   \n",
       "4   Essence        5.0        2   4.653213        4.462398           0.053937   \n",
       "\n",
       "   brand_freq_encode  city_freq_encode  \n",
       "0           0.155460          0.101762  \n",
       "1           0.035479          0.311998  \n",
       "2           0.155460          0.101762  \n",
       "3           0.035479          0.311998  \n",
       "4           0.155460          0.311998  "
      ]
     },
     "execution_count": 7,
     "metadata": {},
     "output_type": "execute_result"
    }
   ],
   "source": [
    "#encoding city frequency\n",
    "city_frequency  = df.groupby('city').size()/len(df)\n",
    "df.loc[:,'city_freq_encode'] = df['city'].map(city_frequency)\n",
    "df.drop([\"city\"],axis=1,inplace=True)\n",
    "\n",
    "df.head()"
   ]
  },
  {
   "cell_type": "code",
   "execution_count": 8,
   "metadata": {},
   "outputs": [
    {
     "data": {
      "text/html": [
       "<div>\n",
       "<style scoped>\n",
       "    .dataframe tbody tr th:only-of-type {\n",
       "        vertical-align: middle;\n",
       "    }\n",
       "\n",
       "    .dataframe tbody tr th {\n",
       "        vertical-align: top;\n",
       "    }\n",
       "\n",
       "    .dataframe thead th {\n",
       "        text-align: right;\n",
       "    }\n",
       "</style>\n",
       "<table border=\"1\" class=\"dataframe\">\n",
       "  <thead>\n",
       "    <tr style=\"text-align: right;\">\n",
       "      <th></th>\n",
       "      <th>Horse_pow</th>\n",
       "      <th>nb_year</th>\n",
       "      <th>log_price</th>\n",
       "      <th>log_Kms_Driven</th>\n",
       "      <th>model_freq_encode</th>\n",
       "      <th>brand_freq_encode</th>\n",
       "      <th>city_freq_encode</th>\n",
       "      <th>fuel_freq_encode</th>\n",
       "    </tr>\n",
       "  </thead>\n",
       "  <tbody>\n",
       "    <tr>\n",
       "      <th>0</th>\n",
       "      <td>4.0</td>\n",
       "      <td>0</td>\n",
       "      <td>4.096910</td>\n",
       "      <td>0.000000</td>\n",
       "      <td>0.053937</td>\n",
       "      <td>0.155460</td>\n",
       "      <td>0.101762</td>\n",
       "      <td>0.356826</td>\n",
       "    </tr>\n",
       "    <tr>\n",
       "      <th>1</th>\n",
       "      <td>1.0</td>\n",
       "      <td>13</td>\n",
       "      <td>4.332438</td>\n",
       "      <td>5.255273</td>\n",
       "      <td>0.013065</td>\n",
       "      <td>0.035479</td>\n",
       "      <td>0.311998</td>\n",
       "      <td>0.356826</td>\n",
       "    </tr>\n",
       "    <tr>\n",
       "      <th>2</th>\n",
       "      <td>4.0</td>\n",
       "      <td>0</td>\n",
       "      <td>4.096910</td>\n",
       "      <td>0.000000</td>\n",
       "      <td>0.053937</td>\n",
       "      <td>0.155460</td>\n",
       "      <td>0.101762</td>\n",
       "      <td>0.356826</td>\n",
       "    </tr>\n",
       "    <tr>\n",
       "      <th>3</th>\n",
       "      <td>1.0</td>\n",
       "      <td>13</td>\n",
       "      <td>4.332438</td>\n",
       "      <td>5.255273</td>\n",
       "      <td>0.013065</td>\n",
       "      <td>0.035479</td>\n",
       "      <td>0.311998</td>\n",
       "      <td>0.356826</td>\n",
       "    </tr>\n",
       "    <tr>\n",
       "      <th>4</th>\n",
       "      <td>5.0</td>\n",
       "      <td>2</td>\n",
       "      <td>4.653213</td>\n",
       "      <td>4.462398</td>\n",
       "      <td>0.053937</td>\n",
       "      <td>0.155460</td>\n",
       "      <td>0.311998</td>\n",
       "      <td>0.643174</td>\n",
       "    </tr>\n",
       "  </tbody>\n",
       "</table>\n",
       "</div>"
      ],
      "text/plain": [
       "   Horse_pow  nb_year  log_price  log_Kms_Driven  model_freq_encode  \\\n",
       "0        4.0        0   4.096910        0.000000           0.053937   \n",
       "1        1.0       13   4.332438        5.255273           0.013065   \n",
       "2        4.0        0   4.096910        0.000000           0.053937   \n",
       "3        1.0       13   4.332438        5.255273           0.013065   \n",
       "4        5.0        2   4.653213        4.462398           0.053937   \n",
       "\n",
       "   brand_freq_encode  city_freq_encode  fuel_freq_encode  \n",
       "0           0.155460          0.101762          0.356826  \n",
       "1           0.035479          0.311998          0.356826  \n",
       "2           0.155460          0.101762          0.356826  \n",
       "3           0.035479          0.311998          0.356826  \n",
       "4           0.155460          0.311998          0.643174  "
      ]
     },
     "execution_count": 8,
     "metadata": {},
     "output_type": "execute_result"
    }
   ],
   "source": [
    "#encoding fuel frequency\n",
    "fuel_frequency  = df.groupby('Fuel_Type').size()/len(df)\n",
    "df.loc[:,'fuel_freq_encode'] = df['Fuel_Type'].map(fuel_frequency)\n",
    "\n",
    "\n",
    "df.drop([\"Fuel_Type\"],axis=1,inplace=True)\n",
    "df.head()\n"
   ]
  },
  {
   "cell_type": "code",
   "execution_count": 9,
   "metadata": {
    "scrolled": true
   },
   "outputs": [
    {
     "data": {
      "text/html": [
       "<div>\n",
       "<style scoped>\n",
       "    .dataframe tbody tr th:only-of-type {\n",
       "        vertical-align: middle;\n",
       "    }\n",
       "\n",
       "    .dataframe tbody tr th {\n",
       "        vertical-align: top;\n",
       "    }\n",
       "\n",
       "    .dataframe thead th {\n",
       "        text-align: right;\n",
       "    }\n",
       "</style>\n",
       "<table border=\"1\" class=\"dataframe\">\n",
       "  <thead>\n",
       "    <tr style=\"text-align: right;\">\n",
       "      <th></th>\n",
       "      <th>nb_year</th>\n",
       "      <th>log_price</th>\n",
       "      <th>log_Kms_Driven</th>\n",
       "      <th>model_freq_encode</th>\n",
       "      <th>brand_freq_encode</th>\n",
       "      <th>city_freq_encode</th>\n",
       "      <th>fuel_freq_encode</th>\n",
       "      <th>horse_freq_encode</th>\n",
       "    </tr>\n",
       "  </thead>\n",
       "  <tbody>\n",
       "    <tr>\n",
       "      <th>0</th>\n",
       "      <td>0</td>\n",
       "      <td>4.096910</td>\n",
       "      <td>0.000000</td>\n",
       "      <td>0.053937</td>\n",
       "      <td>0.155460</td>\n",
       "      <td>0.101762</td>\n",
       "      <td>0.356826</td>\n",
       "      <td>0.167805</td>\n",
       "    </tr>\n",
       "    <tr>\n",
       "      <th>1</th>\n",
       "      <td>13</td>\n",
       "      <td>4.332438</td>\n",
       "      <td>5.255273</td>\n",
       "      <td>0.013065</td>\n",
       "      <td>0.035479</td>\n",
       "      <td>0.311998</td>\n",
       "      <td>0.356826</td>\n",
       "      <td>0.009709</td>\n",
       "    </tr>\n",
       "    <tr>\n",
       "      <th>2</th>\n",
       "      <td>0</td>\n",
       "      <td>4.096910</td>\n",
       "      <td>0.000000</td>\n",
       "      <td>0.053937</td>\n",
       "      <td>0.155460</td>\n",
       "      <td>0.101762</td>\n",
       "      <td>0.356826</td>\n",
       "      <td>0.167805</td>\n",
       "    </tr>\n",
       "    <tr>\n",
       "      <th>3</th>\n",
       "      <td>13</td>\n",
       "      <td>4.332438</td>\n",
       "      <td>5.255273</td>\n",
       "      <td>0.013065</td>\n",
       "      <td>0.035479</td>\n",
       "      <td>0.311998</td>\n",
       "      <td>0.356826</td>\n",
       "      <td>0.009709</td>\n",
       "    </tr>\n",
       "    <tr>\n",
       "      <th>4</th>\n",
       "      <td>2</td>\n",
       "      <td>4.653213</td>\n",
       "      <td>4.462398</td>\n",
       "      <td>0.053937</td>\n",
       "      <td>0.155460</td>\n",
       "      <td>0.311998</td>\n",
       "      <td>0.643174</td>\n",
       "      <td>0.355747</td>\n",
       "    </tr>\n",
       "  </tbody>\n",
       "</table>\n",
       "</div>"
      ],
      "text/plain": [
       "   nb_year  log_price  log_Kms_Driven  model_freq_encode  brand_freq_encode  \\\n",
       "0        0   4.096910        0.000000           0.053937           0.155460   \n",
       "1       13   4.332438        5.255273           0.013065           0.035479   \n",
       "2        0   4.096910        0.000000           0.053937           0.155460   \n",
       "3       13   4.332438        5.255273           0.013065           0.035479   \n",
       "4        2   4.653213        4.462398           0.053937           0.155460   \n",
       "\n",
       "   city_freq_encode  fuel_freq_encode  horse_freq_encode  \n",
       "0          0.101762          0.356826           0.167805  \n",
       "1          0.311998          0.356826           0.009709  \n",
       "2          0.101762          0.356826           0.167805  \n",
       "3          0.311998          0.356826           0.009709  \n",
       "4          0.311998          0.643174           0.355747  "
      ]
     },
     "execution_count": 9,
     "metadata": {},
     "output_type": "execute_result"
    }
   ],
   "source": [
    "#encoding horsepow frequency\n",
    "fuel_frequency  = df.groupby('Horse_pow').size()/len(df)\n",
    "df.loc[:,'horse_freq_encode'] = df['Horse_pow'].map(fuel_frequency)\n",
    "\n",
    "\n",
    "df.drop([\"Horse_pow\"],axis=1,inplace=True)\n",
    "df.head()"
   ]
  },
  {
   "cell_type": "code",
   "execution_count": 10,
   "metadata": {},
   "outputs": [
    {
     "data": {
      "text/plain": [
       "['nb_year',\n",
       " 'log_price',\n",
       " 'log_Kms_Driven',\n",
       " 'model_freq_encode',\n",
       " 'brand_freq_encode',\n",
       " 'city_freq_encode',\n",
       " 'fuel_freq_encode',\n",
       " 'horse_freq_encode']"
      ]
     },
     "execution_count": 10,
     "metadata": {},
     "output_type": "execute_result"
    }
   ],
   "source": [
    "df.columns.tolist()"
   ]
  },
  {
   "cell_type": "code",
   "execution_count": 11,
   "metadata": {},
   "outputs": [],
   "source": [
    "L= list(df.columns.values)\n",
    "del L[1]"
   ]
  },
  {
   "cell_type": "code",
   "execution_count": 12,
   "metadata": {},
   "outputs": [
    {
     "data": {
      "text/html": [
       "<div>\n",
       "<style scoped>\n",
       "    .dataframe tbody tr th:only-of-type {\n",
       "        vertical-align: middle;\n",
       "    }\n",
       "\n",
       "    .dataframe tbody tr th {\n",
       "        vertical-align: top;\n",
       "    }\n",
       "\n",
       "    .dataframe thead th {\n",
       "        text-align: right;\n",
       "    }\n",
       "</style>\n",
       "<table border=\"1\" class=\"dataframe\">\n",
       "  <thead>\n",
       "    <tr style=\"text-align: right;\">\n",
       "      <th></th>\n",
       "      <th>nb_year</th>\n",
       "      <th>log_Kms_Driven</th>\n",
       "      <th>model_freq_encode</th>\n",
       "      <th>brand_freq_encode</th>\n",
       "      <th>city_freq_encode</th>\n",
       "      <th>fuel_freq_encode</th>\n",
       "      <th>horse_freq_encode</th>\n",
       "    </tr>\n",
       "  </thead>\n",
       "  <tbody>\n",
       "    <tr>\n",
       "      <th>0</th>\n",
       "      <td>0</td>\n",
       "      <td>0.000000</td>\n",
       "      <td>0.053937</td>\n",
       "      <td>0.155460</td>\n",
       "      <td>0.101762</td>\n",
       "      <td>0.356826</td>\n",
       "      <td>0.167805</td>\n",
       "    </tr>\n",
       "    <tr>\n",
       "      <th>1</th>\n",
       "      <td>13</td>\n",
       "      <td>5.255273</td>\n",
       "      <td>0.013065</td>\n",
       "      <td>0.035479</td>\n",
       "      <td>0.311998</td>\n",
       "      <td>0.356826</td>\n",
       "      <td>0.009709</td>\n",
       "    </tr>\n",
       "    <tr>\n",
       "      <th>2</th>\n",
       "      <td>0</td>\n",
       "      <td>0.000000</td>\n",
       "      <td>0.053937</td>\n",
       "      <td>0.155460</td>\n",
       "      <td>0.101762</td>\n",
       "      <td>0.356826</td>\n",
       "      <td>0.167805</td>\n",
       "    </tr>\n",
       "    <tr>\n",
       "      <th>3</th>\n",
       "      <td>13</td>\n",
       "      <td>5.255273</td>\n",
       "      <td>0.013065</td>\n",
       "      <td>0.035479</td>\n",
       "      <td>0.311998</td>\n",
       "      <td>0.356826</td>\n",
       "      <td>0.009709</td>\n",
       "    </tr>\n",
       "    <tr>\n",
       "      <th>4</th>\n",
       "      <td>2</td>\n",
       "      <td>4.462398</td>\n",
       "      <td>0.053937</td>\n",
       "      <td>0.155460</td>\n",
       "      <td>0.311998</td>\n",
       "      <td>0.643174</td>\n",
       "      <td>0.355747</td>\n",
       "    </tr>\n",
       "    <tr>\n",
       "      <th>...</th>\n",
       "      <td>...</td>\n",
       "      <td>...</td>\n",
       "      <td>...</td>\n",
       "      <td>...</td>\n",
       "      <td>...</td>\n",
       "      <td>...</td>\n",
       "      <td>...</td>\n",
       "    </tr>\n",
       "    <tr>\n",
       "      <th>8338</th>\n",
       "      <td>8</td>\n",
       "      <td>4.934498</td>\n",
       "      <td>0.008031</td>\n",
       "      <td>0.150186</td>\n",
       "      <td>0.101762</td>\n",
       "      <td>0.643174</td>\n",
       "      <td>0.355747</td>\n",
       "    </tr>\n",
       "    <tr>\n",
       "      <th>8339</th>\n",
       "      <td>12</td>\n",
       "      <td>5.365488</td>\n",
       "      <td>0.024452</td>\n",
       "      <td>0.133046</td>\n",
       "      <td>0.014623</td>\n",
       "      <td>0.643174</td>\n",
       "      <td>0.175716</td>\n",
       "    </tr>\n",
       "    <tr>\n",
       "      <th>8340</th>\n",
       "      <td>6</td>\n",
       "      <td>5.004321</td>\n",
       "      <td>0.026369</td>\n",
       "      <td>0.041232</td>\n",
       "      <td>0.065684</td>\n",
       "      <td>0.643174</td>\n",
       "      <td>0.355747</td>\n",
       "    </tr>\n",
       "    <tr>\n",
       "      <th>8341</th>\n",
       "      <td>13</td>\n",
       "      <td>5.436163</td>\n",
       "      <td>0.021335</td>\n",
       "      <td>0.155460</td>\n",
       "      <td>0.005394</td>\n",
       "      <td>0.643174</td>\n",
       "      <td>0.132087</td>\n",
       "    </tr>\n",
       "    <tr>\n",
       "      <th>8342</th>\n",
       "      <td>5</td>\n",
       "      <td>5.170262</td>\n",
       "      <td>0.021335</td>\n",
       "      <td>0.155460</td>\n",
       "      <td>0.088577</td>\n",
       "      <td>0.643174</td>\n",
       "      <td>0.132087</td>\n",
       "    </tr>\n",
       "  </tbody>\n",
       "</table>\n",
       "<p>8343 rows × 7 columns</p>\n",
       "</div>"
      ],
      "text/plain": [
       "      nb_year  log_Kms_Driven  model_freq_encode  brand_freq_encode  \\\n",
       "0           0        0.000000           0.053937           0.155460   \n",
       "1          13        5.255273           0.013065           0.035479   \n",
       "2           0        0.000000           0.053937           0.155460   \n",
       "3          13        5.255273           0.013065           0.035479   \n",
       "4           2        4.462398           0.053937           0.155460   \n",
       "...       ...             ...                ...                ...   \n",
       "8338        8        4.934498           0.008031           0.150186   \n",
       "8339       12        5.365488           0.024452           0.133046   \n",
       "8340        6        5.004321           0.026369           0.041232   \n",
       "8341       13        5.436163           0.021335           0.155460   \n",
       "8342        5        5.170262           0.021335           0.155460   \n",
       "\n",
       "      city_freq_encode  fuel_freq_encode  horse_freq_encode  \n",
       "0             0.101762          0.356826           0.167805  \n",
       "1             0.311998          0.356826           0.009709  \n",
       "2             0.101762          0.356826           0.167805  \n",
       "3             0.311998          0.356826           0.009709  \n",
       "4             0.311998          0.643174           0.355747  \n",
       "...                ...               ...                ...  \n",
       "8338          0.101762          0.643174           0.355747  \n",
       "8339          0.014623          0.643174           0.175716  \n",
       "8340          0.065684          0.643174           0.355747  \n",
       "8341          0.005394          0.643174           0.132087  \n",
       "8342          0.088577          0.643174           0.132087  \n",
       "\n",
       "[8343 rows x 7 columns]"
      ]
     },
     "execution_count": 12,
     "metadata": {},
     "output_type": "execute_result"
    }
   ],
   "source": [
    "X=df[L]\n",
    "X"
   ]
  },
  {
   "cell_type": "code",
   "execution_count": 13,
   "metadata": {
    "scrolled": true
   },
   "outputs": [
    {
     "data": {
      "text/html": [
       "<div>\n",
       "<style scoped>\n",
       "    .dataframe tbody tr th:only-of-type {\n",
       "        vertical-align: middle;\n",
       "    }\n",
       "\n",
       "    .dataframe tbody tr th {\n",
       "        vertical-align: top;\n",
       "    }\n",
       "\n",
       "    .dataframe thead th {\n",
       "        text-align: right;\n",
       "    }\n",
       "</style>\n",
       "<table border=\"1\" class=\"dataframe\">\n",
       "  <thead>\n",
       "    <tr style=\"text-align: right;\">\n",
       "      <th></th>\n",
       "      <th>log_price</th>\n",
       "    </tr>\n",
       "  </thead>\n",
       "  <tbody>\n",
       "    <tr>\n",
       "      <th>0</th>\n",
       "      <td>4.096910</td>\n",
       "    </tr>\n",
       "    <tr>\n",
       "      <th>1</th>\n",
       "      <td>4.332438</td>\n",
       "    </tr>\n",
       "    <tr>\n",
       "      <th>2</th>\n",
       "      <td>4.096910</td>\n",
       "    </tr>\n",
       "    <tr>\n",
       "      <th>3</th>\n",
       "      <td>4.332438</td>\n",
       "    </tr>\n",
       "    <tr>\n",
       "      <th>4</th>\n",
       "      <td>4.653213</td>\n",
       "    </tr>\n",
       "    <tr>\n",
       "      <th>...</th>\n",
       "      <td>...</td>\n",
       "    </tr>\n",
       "    <tr>\n",
       "      <th>8338</th>\n",
       "      <td>4.459392</td>\n",
       "    </tr>\n",
       "    <tr>\n",
       "      <th>8339</th>\n",
       "      <td>4.371068</td>\n",
       "    </tr>\n",
       "    <tr>\n",
       "      <th>8340</th>\n",
       "      <td>4.574031</td>\n",
       "    </tr>\n",
       "    <tr>\n",
       "      <th>8341</th>\n",
       "      <td>4.462398</td>\n",
       "    </tr>\n",
       "    <tr>\n",
       "      <th>8342</th>\n",
       "      <td>4.812913</td>\n",
       "    </tr>\n",
       "  </tbody>\n",
       "</table>\n",
       "<p>8343 rows × 1 columns</p>\n",
       "</div>"
      ],
      "text/plain": [
       "      log_price\n",
       "0      4.096910\n",
       "1      4.332438\n",
       "2      4.096910\n",
       "3      4.332438\n",
       "4      4.653213\n",
       "...         ...\n",
       "8338   4.459392\n",
       "8339   4.371068\n",
       "8340   4.574031\n",
       "8341   4.462398\n",
       "8342   4.812913\n",
       "\n",
       "[8343 rows x 1 columns]"
      ]
     },
     "execution_count": 13,
     "metadata": {},
     "output_type": "execute_result"
    }
   ],
   "source": [
    "y=df[['log_price']]\n",
    "y"
   ]
  },
  {
   "cell_type": "code",
   "execution_count": 14,
   "metadata": {},
   "outputs": [],
   "source": [
    "from sklearn.model_selection import train_test_split\n",
    "X_train,X_test,y_train,y_test=train_test_split(X,y,test_size=0.2)"
   ]
  },
  {
   "cell_type": "code",
   "execution_count": 15,
   "metadata": {},
   "outputs": [],
   "source": [
    "#standardization scaler \n",
    "from sklearn.preprocessing import StandardScaler\n",
    "s_scaler = StandardScaler()\n",
    "X_train = s_scaler.fit_transform(X_train.astype(np.float))\n",
    "X_test = s_scaler.transform(X_test.astype(np.float))"
   ]
  },
  {
   "cell_type": "markdown",
   "metadata": {},
   "source": [
    "#  Linear Regression\n"
   ]
  },
  {
   "cell_type": "code",
   "execution_count": 16,
   "metadata": {},
   "outputs": [
    {
     "name": "stdout",
     "output_type": "stream",
     "text": [
      "MAE: 0.1757249618849295\n",
      "MSE: 0.12621292095037118\n",
      "RMSE: 0.35526457880060486\n"
     ]
    }
   ],
   "source": [
    "from sklearn.linear_model import LinearRegression\n",
    "regressor = LinearRegression()  \n",
    "regressor.fit(X_train, y_train)\n",
    "\n",
    "#predicting the test set result\n",
    "y_pred = regressor.predict(X_test)\n",
    "\n",
    "\n",
    "#evaluate the results\n",
    "from sklearn import metrics\n",
    "\n",
    "\n",
    "print('MAE:', metrics.mean_absolute_error(y_test, y_pred))  \n",
    "print('MSE:', metrics.mean_squared_error(y_test, y_pred))  \n",
    "print('RMSE:', np.sqrt(metrics.mean_squared_error(y_test, y_pred)))\n"
   ]
  },
  {
   "cell_type": "code",
   "execution_count": 17,
   "metadata": {},
   "outputs": [
    {
     "data": {
      "text/plain": [
       "<matplotlib.axes._subplots.AxesSubplot at 0x1fc3d66a880>"
      ]
     },
     "execution_count": 17,
     "metadata": {},
     "output_type": "execute_result"
    },
    {
     "data": {
      "image/png": "[encoded data removed]",
      "text/plain": [
       "<Figure size 432x288 with 1 Axes>"
      ]
     },
     "metadata": {
      "needs_background": "light"
     },
     "output_type": "display_data"
    }
   ],
   "source": [
    "sns.distplot(y_test-y_pred)"
   ]
  },
  {
   "cell_type": "markdown",
   "metadata": {},
   "source": [
    "# Decision Tree Regressor"
   ]
  },
  {
   "cell_type": "code",
   "execution_count": 18,
   "metadata": {},
   "outputs": [
    {
     "name": "stdout",
     "output_type": "stream",
     "text": [
      "MAE: 0.20269131288825087\n",
      "MSE: 0.2037024937092359\n",
      "RMSE: 0.45133412646202137\n"
     ]
    }
   ],
   "source": [
    "from sklearn.tree import DecisionTreeRegressor\n",
    "\n",
    "dtr = DecisionTreeRegressor()\n",
    "\n",
    "dtr.fit(X_train, y_train)            \n",
    "dtr_y_pred=dtr.predict(X_test)    \n",
    "print('MAE:', metrics.mean_absolute_error(y_test, dtr_y_pred))  \n",
    "print('MSE:', metrics.mean_squared_error(y_test, dtr_y_pred))  \n",
    "print('RMSE:', np.sqrt(metrics.mean_squared_error(y_test, dtr_y_pred)))"
   ]
  },
  {
   "cell_type": "code",
   "execution_count": 20,
   "metadata": {},
   "outputs": [
    {
     "data": {
      "image/png": "[encoded data removed]",
      "text/plain": [
       "<Figure size 432x288 with 1 Axes>"
      ]
     },
     "metadata": {
      "needs_background": "light"
     },
     "output_type": "display_data"
    }
   ],
   "source": [
    "y_test=y_test.to_numpy()\n",
    "y_test=np.squeeze(y_test)\n",
    "sns.distplot(y_test-dtr_y_pred)\n",
    "plt.xlabel(\"Prediction Error\")\n",
    "_ = plt.ylabel(\"Count\")"
   ]
  },
  {
   "cell_type": "markdown",
   "metadata": {},
   "source": [
    "# Random Forest Regressor"
   ]
  },
  {
   "cell_type": "code",
   "execution_count": 21,
   "metadata": {},
   "outputs": [],
   "source": [
    "from sklearn.ensemble import RandomForestRegressor\n",
    "#use the random grid to search for best hyperparameters\n",
    "#first create the best model to tune\n",
    "rf = RandomForestRegressor()"
   ]
  },
  {
   "cell_type": "code",
   "execution_count": null,
   "metadata": {},
   "outputs": [],
   "source": [
    "import numpy as np\n",
    "#HyperParameters for Randomized Search CV\n",
    "#note for self : Randomized searchCV is much faster than Grid SearchCV\n",
    "# Number of trees in random forest\n",
    "n_estimators = [int(x) for x in np.linspace(start = 100, stop = 1200, num = 12)]\n",
    "# Number of features to consider at every split\n",
    "max_features = ['auto', 'sqrt']\n",
    "# Maximum number of levels in tree\n",
    "max_depth = [int(x) for x in np.linspace(5, 30, num = 6)]\n",
    "# max_depth.append(None)\n",
    "# Minimum number of samples required to split a node\n",
    "min_samples_split = [2, 5, 10, 15, 100]\n",
    "# Minimum number of samples required at each leaf node\n",
    "min_samples_leaf = [1, 2, 5, 10]"
   ]
  },
  {
   "cell_type": "code",
   "execution_count": null,
   "metadata": {},
   "outputs": [],
   "source": [
    "random_grid = {'n_estimators': n_estimators,\n",
    "               'max_features': max_features,\n",
    "               'max_depth': max_depth,\n",
    "               'min_samples_split': min_samples_split,\n",
    "               'min_samples_leaf': min_samples_leaf}\n",
    "\n",
    "print(random_grid)\n",
    "\n"
   ]
  },
  {
   "cell_type": "code",
   "execution_count": null,
   "metadata": {},
   "outputs": [],
   "source": [
    "from sklearn.model_selection import RandomizedSearchCV\n",
    "\n",
    "# Random search of parameters, using 3 fold cross validation, \n",
    "# search across 100 different combinations\n",
    "rf_random = RandomizedSearchCV(estimator = rf, param_distributions = random_grid,scoring='neg_mean_squared_error', n_iter = 10, cv = 5, verbose=2, random_state=42, n_jobs = 1)"
   ]
  },
  {
   "cell_type": "code",
   "execution_count": null,
   "metadata": {},
   "outputs": [],
   "source": [
    "rf_random.fit(X_train,y_train.values.ravel())"
   ]
  },
  {
   "cell_type": "code",
   "execution_count": null,
   "metadata": {},
   "outputs": [],
   "source": [
    "rf_random.best_params_"
   ]
  },
  {
   "cell_type": "code",
   "execution_count": null,
   "metadata": {},
   "outputs": [],
   "source": [
    "predictions = rf_random.predict(X_test)"
   ]
  },
  {
   "cell_type": "code",
   "execution_count": null,
   "metadata": {},
   "outputs": [],
   "source": [
    "y_test=y_test.to_numpy()\n",
    "y_test=np.squeeze(y_test)\n",
    "\n",
    "sns.distplot(y_test-predictions)\n",
    "plt.xlabel(\"Prediction Error\")\n",
    "_ = plt.ylabel(\"Count\")"
   ]
  },
  {
   "cell_type": "code",
   "execution_count": null,
   "metadata": {},
   "outputs": [],
   "source": [
    "print('MAE:', metrics.mean_absolute_error(y_test, predictions))  \n",
    "print('MSE:', metrics.mean_squared_error(y_test, predictions))  \n",
    "print('RMSE:', np.sqrt(metrics.mean_squared_error(y_test, predictions)))"
   ]
  },
  {
   "cell_type": "markdown",
   "metadata": {},
   "source": [
    "# XGBoost"
   ]
  },
  {
   "cell_type": "code",
   "execution_count": 22,
   "metadata": {},
   "outputs": [],
   "source": [
    "import xgboost as xgb\n",
    "from sklearn.model_selection import train_test_split\n"
   ]
  },
  {
   "cell_type": "code",
   "execution_count": 23,
   "metadata": {},
   "outputs": [],
   "source": [
    "net = xgb.XGBRegressor(base_score=0.5, booster='gbtree', colsample_bylevel=1,\n",
    "                       colsample_bynode=1, colsample_bytree=1, gamma=0,\n",
    "                       importance_type='gain', learning_rate=0.08, max_delta_step=0,\n",
    "                       max_depth=7, min_child_weight=1, missing=None, n_estimators=100,\n",
    "                       n_jobs=1, nthread=None, random_state=0,\n",
    "                       reg_alpha=0, reg_lambda=1, scale_pos_weight=1, seed=None,\n",
    "                       silent=None, subsample=0.75, verbosity=1, objective='reg:squarederror')"
   ]
  },
  {
   "cell_type": "code",
   "execution_count": 27,
   "metadata": {},
   "outputs": [],
   "source": [
    "net.fit(X_train, y_train)\n",
    "XGB_y_pred=net.predict(X_test)"
   ]
  },
  {
   "cell_type": "code",
   "execution_count": 28,
   "metadata": {},
   "outputs": [
    {
     "name": "stdout",
     "output_type": "stream",
     "text": [
      "MAE: 0.15196680668587836\n",
      "MSE: 0.1012960862550101\n",
      "RMSE: 0.31827046085838706\n"
     ]
    }
   ],
   "source": [
    "print('MAE:', metrics.mean_absolute_error(y_test, XGB_y_pred))  \n",
    "print('MSE:', metrics.mean_squared_error(y_test, XGB_y_pred))  \n",
    "print('RMSE:', np.sqrt(metrics.mean_squared_error(y_test, XGB_y_pred)))"
   ]
  },
  {
   "cell_type": "code",
   "execution_count": 29,
   "metadata": {},
   "outputs": [
    {
     "data": {
      "image/png": "[encoded data removed]",
      "text/plain": [
       "<Figure size 432x288 with 1 Axes>"
      ]
     },
     "metadata": {
      "needs_background": "light"
     },
     "output_type": "display_data"
    }
   ],
   "source": [
    "sns.distplot(y_test-XGB_y_pred)\n",
    "plt.xlabel(\"Prediction Error\")\n",
    "_ = plt.ylabel(\"Count\")"
   ]
  },
  {
   "cell_type": "code",
   "execution_count": null,
   "metadata": {},
   "outputs": [],
   "source": []
  }
 ],
 "metadata": {
  "kernelspec": {
   "display_name": "Python 3",
   "language": "python",
   "name": "python3"
  },
  "language_info": {
   "codemirror_mode": {
    "name": "ipython",
    "version": 3
   },
   "file_extension": ".py",
   "mimetype": "text/x-python",
   "name": "python",
   "nbconvert_exporter": "python",
   "pygments_lexer": "ipython3",
   "version": "3.8.3"
  }
 },
 "nbformat": 4,
 "nbformat_minor": 4
}
