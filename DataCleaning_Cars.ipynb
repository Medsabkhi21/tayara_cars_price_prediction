{
 "cells": [
  {
   "cell_type": "code",
   "execution_count": 3,
   "metadata": {},
   "outputs": [],
   "source": [
    "import pandas as pd \n",
    "import numpy as np"
   ]
  },
  {
   "cell_type": "code",
   "execution_count": 5,
   "metadata": {},
   "outputs": [],
   "source": [
    "df= pd.read_csv(\"tayara_cars.csv\")"
   ]
  },
  {
   "cell_type": "code",
   "execution_count": 6,
   "metadata": {},
   "outputs": [
    {
     "data": {
      "text/html": [
       "<div>\n",
       "<style scoped>\n",
       "    .dataframe tbody tr th:only-of-type {\n",
       "        vertical-align: middle;\n",
       "    }\n",
       "\n",
       "    .dataframe tbody tr th {\n",
       "        vertical-align: top;\n",
       "    }\n",
       "\n",
       "    .dataframe thead th {\n",
       "        text-align: right;\n",
       "    }\n",
       "</style>\n",
       "<table border=\"1\" class=\"dataframe\">\n",
       "  <thead>\n",
       "    <tr style=\"text-align: right;\">\n",
       "      <th></th>\n",
       "      <th>Unnamed: 0</th>\n",
       "      <th>location</th>\n",
       "      <th>km</th>\n",
       "      <th>annee</th>\n",
       "      <th>marque</th>\n",
       "      <th>model</th>\n",
       "      <th>date</th>\n",
       "      <th>price</th>\n",
       "      <th>carburant</th>\n",
       "      <th>puissance</th>\n",
       "      <th>boite</th>\n",
       "      <th>cylindre</th>\n",
       "    </tr>\n",
       "  </thead>\n",
       "  <tbody>\n",
       "    <tr>\n",
       "      <th>0</th>\n",
       "      <td>0</td>\n",
       "      <td>Ben arous, Ezzahra</td>\n",
       "      <td>1.0</td>\n",
       "      <td>2021</td>\n",
       "      <td>Volkswagen</td>\n",
       "      <td>Polo</td>\n",
       "      <td>14 mars 2021</td>\n",
       "      <td>12500.0</td>\n",
       "      <td>Diesel</td>\n",
       "      <td>4</td>\n",
       "      <td>Jaune</td>\n",
       "      <td>Compacte</td>\n",
       "    </tr>\n",
       "    <tr>\n",
       "      <th>1</th>\n",
       "      <td>1</td>\n",
       "      <td>Tunis, Tunis</td>\n",
       "      <td>180000.0</td>\n",
       "      <td>2008</td>\n",
       "      <td>Opel</td>\n",
       "      <td>Astra</td>\n",
       "      <td>14 mars 2021</td>\n",
       "      <td>21500.0</td>\n",
       "      <td>Diesel</td>\n",
       "      <td>1</td>\n",
       "      <td>Noir</td>\n",
       "      <td>Berline</td>\n",
       "    </tr>\n",
       "    <tr>\n",
       "      <th>2</th>\n",
       "      <td>2</td>\n",
       "      <td>Ben arous, Ezzahra</td>\n",
       "      <td>1.0</td>\n",
       "      <td>2021</td>\n",
       "      <td>Volkswagen</td>\n",
       "      <td>Polo</td>\n",
       "      <td>14 mars 2021</td>\n",
       "      <td>12500.0</td>\n",
       "      <td>Diesel</td>\n",
       "      <td>4</td>\n",
       "      <td>Jaune</td>\n",
       "      <td>Compacte</td>\n",
       "    </tr>\n",
       "    <tr>\n",
       "      <th>3</th>\n",
       "      <td>3</td>\n",
       "      <td>Tunis, Tunis</td>\n",
       "      <td>180000.0</td>\n",
       "      <td>2008</td>\n",
       "      <td>Opel</td>\n",
       "      <td>Astra</td>\n",
       "      <td>14 mars 2021</td>\n",
       "      <td>21500.0</td>\n",
       "      <td>Diesel</td>\n",
       "      <td>1</td>\n",
       "      <td>Noir</td>\n",
       "      <td>Berline</td>\n",
       "    </tr>\n",
       "    <tr>\n",
       "      <th>4</th>\n",
       "      <td>4</td>\n",
       "      <td>Monastir, Autres villes</td>\n",
       "      <td>200000.0</td>\n",
       "      <td>1999</td>\n",
       "      <td>Renault</td>\n",
       "      <td>12</td>\n",
       "      <td>14 mars 2021</td>\n",
       "      <td>111111.0</td>\n",
       "      <td>Essence</td>\n",
       "      <td>4</td>\n",
       "      <td>Blanc</td>\n",
       "      <td>Autres</td>\n",
       "    </tr>\n",
       "  </tbody>\n",
       "</table>\n",
       "</div>"
      ],
      "text/plain": [
       "   Unnamed: 0                 location        km annee      marque  model  \\\n",
       "0           0       Ben arous, Ezzahra       1.0  2021  Volkswagen   Polo   \n",
       "1           1             Tunis, Tunis  180000.0  2008        Opel  Astra   \n",
       "2           2       Ben arous, Ezzahra       1.0  2021  Volkswagen   Polo   \n",
       "3           3             Tunis, Tunis  180000.0  2008        Opel  Astra   \n",
       "4           4  Monastir, Autres villes  200000.0  1999     Renault     12   \n",
       "\n",
       "           date     price carburant puissance  boite  cylindre  \n",
       "0  14 mars 2021   12500.0    Diesel         4  Jaune  Compacte  \n",
       "1  14 mars 2021   21500.0    Diesel         1   Noir   Berline  \n",
       "2  14 mars 2021   12500.0    Diesel         4  Jaune  Compacte  \n",
       "3  14 mars 2021   21500.0    Diesel         1   Noir   Berline  \n",
       "4  14 mars 2021  111111.0   Essence         4  Blanc    Autres  "
      ]
     },
     "execution_count": 6,
     "metadata": {},
     "output_type": "execute_result"
    }
   ],
   "source": [
    "df.head()"
   ]
  },
  {
   "cell_type": "code",
   "execution_count": 7,
   "metadata": {
    "scrolled": true
   },
   "outputs": [
    {
     "data": {
      "text/html": [
       "<div>\n",
       "<style scoped>\n",
       "    .dataframe tbody tr th:only-of-type {\n",
       "        vertical-align: middle;\n",
       "    }\n",
       "\n",
       "    .dataframe tbody tr th {\n",
       "        vertical-align: top;\n",
       "    }\n",
       "\n",
       "    .dataframe thead th {\n",
       "        text-align: right;\n",
       "    }\n",
       "</style>\n",
       "<table border=\"1\" class=\"dataframe\">\n",
       "  <thead>\n",
       "    <tr style=\"text-align: right;\">\n",
       "      <th></th>\n",
       "      <th>location</th>\n",
       "      <th>km</th>\n",
       "      <th>annee</th>\n",
       "      <th>marque</th>\n",
       "      <th>model</th>\n",
       "      <th>date</th>\n",
       "      <th>price</th>\n",
       "      <th>carburant</th>\n",
       "      <th>puissance</th>\n",
       "      <th>boite</th>\n",
       "      <th>cylindre</th>\n",
       "    </tr>\n",
       "  </thead>\n",
       "  <tbody>\n",
       "    <tr>\n",
       "      <th>0</th>\n",
       "      <td>Ben arous, Ezzahra</td>\n",
       "      <td>1.0</td>\n",
       "      <td>2021</td>\n",
       "      <td>Volkswagen</td>\n",
       "      <td>Polo</td>\n",
       "      <td>14 mars 2021</td>\n",
       "      <td>12500.0</td>\n",
       "      <td>Diesel</td>\n",
       "      <td>4</td>\n",
       "      <td>Jaune</td>\n",
       "      <td>Compacte</td>\n",
       "    </tr>\n",
       "    <tr>\n",
       "      <th>1</th>\n",
       "      <td>Tunis, Tunis</td>\n",
       "      <td>180000.0</td>\n",
       "      <td>2008</td>\n",
       "      <td>Opel</td>\n",
       "      <td>Astra</td>\n",
       "      <td>14 mars 2021</td>\n",
       "      <td>21500.0</td>\n",
       "      <td>Diesel</td>\n",
       "      <td>1</td>\n",
       "      <td>Noir</td>\n",
       "      <td>Berline</td>\n",
       "    </tr>\n",
       "    <tr>\n",
       "      <th>2</th>\n",
       "      <td>Ben arous, Ezzahra</td>\n",
       "      <td>1.0</td>\n",
       "      <td>2021</td>\n",
       "      <td>Volkswagen</td>\n",
       "      <td>Polo</td>\n",
       "      <td>14 mars 2021</td>\n",
       "      <td>12500.0</td>\n",
       "      <td>Diesel</td>\n",
       "      <td>4</td>\n",
       "      <td>Jaune</td>\n",
       "      <td>Compacte</td>\n",
       "    </tr>\n",
       "    <tr>\n",
       "      <th>3</th>\n",
       "      <td>Tunis, Tunis</td>\n",
       "      <td>180000.0</td>\n",
       "      <td>2008</td>\n",
       "      <td>Opel</td>\n",
       "      <td>Astra</td>\n",
       "      <td>14 mars 2021</td>\n",
       "      <td>21500.0</td>\n",
       "      <td>Diesel</td>\n",
       "      <td>1</td>\n",
       "      <td>Noir</td>\n",
       "      <td>Berline</td>\n",
       "    </tr>\n",
       "    <tr>\n",
       "      <th>4</th>\n",
       "      <td>Monastir, Autres villes</td>\n",
       "      <td>200000.0</td>\n",
       "      <td>1999</td>\n",
       "      <td>Renault</td>\n",
       "      <td>12</td>\n",
       "      <td>14 mars 2021</td>\n",
       "      <td>111111.0</td>\n",
       "      <td>Essence</td>\n",
       "      <td>4</td>\n",
       "      <td>Blanc</td>\n",
       "      <td>Autres</td>\n",
       "    </tr>\n",
       "  </tbody>\n",
       "</table>\n",
       "</div>"
      ],
      "text/plain": [
       "                  location        km annee      marque  model          date  \\\n",
       "0       Ben arous, Ezzahra       1.0  2021  Volkswagen   Polo  14 mars 2021   \n",
       "1             Tunis, Tunis  180000.0  2008        Opel  Astra  14 mars 2021   \n",
       "2       Ben arous, Ezzahra       1.0  2021  Volkswagen   Polo  14 mars 2021   \n",
       "3             Tunis, Tunis  180000.0  2008        Opel  Astra  14 mars 2021   \n",
       "4  Monastir, Autres villes  200000.0  1999     Renault     12  14 mars 2021   \n",
       "\n",
       "      price carburant puissance  boite  cylindre  \n",
       "0   12500.0    Diesel         4  Jaune  Compacte  \n",
       "1   21500.0    Diesel         1   Noir   Berline  \n",
       "2   12500.0    Diesel         4  Jaune  Compacte  \n",
       "3   21500.0    Diesel         1   Noir   Berline  \n",
       "4  111111.0   Essence         4  Blanc    Autres  "
      ]
     },
     "execution_count": 7,
     "metadata": {},
     "output_type": "execute_result"
    }
   ],
   "source": [
    "df.drop([\"Unnamed: 0\"],axis=1,inplace=True)\n",
    "df.head()"
   ]
  },
  {
   "cell_type": "code",
   "execution_count": 9,
   "metadata": {},
   "outputs": [],
   "source": [
    "newCols = {'km':'Kms_Driven','annee':'year','marque':'brand','carburant':'Fuel_Type','boite':'Color','puissance':'Horse_pow','cylindre':'body_style'}\n",
    "df.rename(columns=newCols, inplace=True)"
   ]
  },
  {
   "cell_type": "code",
   "execution_count": 13,
   "metadata": {},
   "outputs": [
    {
     "name": "stdout",
     "output_type": "stream",
     "text": [
      "<class 'pandas.core.frame.DataFrame'>\n",
      "RangeIndex: 10730 entries, 0 to 10729\n",
      "Data columns (total 11 columns):\n",
      " #   Column      Non-Null Count  Dtype  \n",
      "---  ------      --------------  -----  \n",
      " 0   location    10730 non-null  object \n",
      " 1   Kms_Driven  10723 non-null  float64\n",
      " 2   year        10728 non-null  object \n",
      " 3   brand       10728 non-null  object \n",
      " 4   model       10727 non-null  object \n",
      " 5   date        10730 non-null  object \n",
      " 6   price       10725 non-null  float64\n",
      " 7   Fuel_Type   10727 non-null  object \n",
      " 8   Horse_pow   10727 non-null  object \n",
      " 9   Color       10727 non-null  object \n",
      " 10  body_style  10727 non-null  object \n",
      "dtypes: float64(2), object(9)\n",
      "memory usage: 922.2+ KB\n"
     ]
    },
    {
     "data": {
      "text/html": [
       "<div>\n",
       "<style scoped>\n",
       "    .dataframe tbody tr th:only-of-type {\n",
       "        vertical-align: middle;\n",
       "    }\n",
       "\n",
       "    .dataframe tbody tr th {\n",
       "        vertical-align: top;\n",
       "    }\n",
       "\n",
       "    .dataframe thead th {\n",
       "        text-align: right;\n",
       "    }\n",
       "</style>\n",
       "<table border=\"1\" class=\"dataframe\">\n",
       "  <thead>\n",
       "    <tr style=\"text-align: right;\">\n",
       "      <th></th>\n",
       "      <th>Kms_Driven</th>\n",
       "      <th>price</th>\n",
       "    </tr>\n",
       "  </thead>\n",
       "  <tbody>\n",
       "    <tr>\n",
       "      <th>count</th>\n",
       "      <td>1.072300e+04</td>\n",
       "      <td>10725.000000</td>\n",
       "    </tr>\n",
       "    <tr>\n",
       "      <th>mean</th>\n",
       "      <td>8.369274e+06</td>\n",
       "      <td>22050.703590</td>\n",
       "    </tr>\n",
       "    <tr>\n",
       "      <th>std</th>\n",
       "      <td>1.211033e+08</td>\n",
       "      <td>23439.731874</td>\n",
       "    </tr>\n",
       "    <tr>\n",
       "      <th>min</th>\n",
       "      <td>-3.740000e+05</td>\n",
       "      <td>5.000000</td>\n",
       "    </tr>\n",
       "    <tr>\n",
       "      <th>25%</th>\n",
       "      <td>2.465000e+02</td>\n",
       "      <td>5200.000000</td>\n",
       "    </tr>\n",
       "    <tr>\n",
       "      <th>50%</th>\n",
       "      <td>9.000000e+04</td>\n",
       "      <td>17800.000000</td>\n",
       "    </tr>\n",
       "    <tr>\n",
       "      <th>75%</th>\n",
       "      <td>1.980000e+05</td>\n",
       "      <td>30000.000000</td>\n",
       "    </tr>\n",
       "    <tr>\n",
       "      <th>max</th>\n",
       "      <td>2.147484e+09</td>\n",
       "      <td>200000.000000</td>\n",
       "    </tr>\n",
       "  </tbody>\n",
       "</table>\n",
       "</div>"
      ],
      "text/plain": [
       "         Kms_Driven          price\n",
       "count  1.072300e+04   10725.000000\n",
       "mean   8.369274e+06   22050.703590\n",
       "std    1.211033e+08   23439.731874\n",
       "min   -3.740000e+05       5.000000\n",
       "25%    2.465000e+02    5200.000000\n",
       "50%    9.000000e+04   17800.000000\n",
       "75%    1.980000e+05   30000.000000\n",
       "max    2.147484e+09  200000.000000"
      ]
     },
     "execution_count": 13,
     "metadata": {},
     "output_type": "execute_result"
    }
   ],
   "source": [
    "df.head()\n",
    "df.info()\n",
    "df.describe()"
   ]
  },
  {
   "cell_type": "markdown",
   "metadata": {},
   "source": [
    "i already filtered the cars with 0dt price tags and >=200 000dt because i noticed people put their phone number in there too\n",
    "to do:\n",
    "    -normalize Kms_driven numbers , and price tag ,some people refer to 10 000dt as 10dt\n",
    "    -convert year to integer\n",
    "    -add a car age column \n",
    "        "
   ]
  },
  {
   "cell_type": "code",
   "execution_count": 15,
   "metadata": {},
   "outputs": [
    {
     "data": {
      "text/html": [
       "<div>\n",
       "<style scoped>\n",
       "    .dataframe tbody tr th:only-of-type {\n",
       "        vertical-align: middle;\n",
       "    }\n",
       "\n",
       "    .dataframe tbody tr th {\n",
       "        vertical-align: top;\n",
       "    }\n",
       "\n",
       "    .dataframe thead th {\n",
       "        text-align: right;\n",
       "    }\n",
       "</style>\n",
       "<table border=\"1\" class=\"dataframe\">\n",
       "  <thead>\n",
       "    <tr style=\"text-align: right;\">\n",
       "      <th></th>\n",
       "      <th>Kms_Driven</th>\n",
       "      <th>year</th>\n",
       "      <th>brand</th>\n",
       "      <th>model</th>\n",
       "      <th>date</th>\n",
       "      <th>price</th>\n",
       "      <th>Fuel_Type</th>\n",
       "      <th>Horse_pow</th>\n",
       "      <th>Color</th>\n",
       "      <th>body_style</th>\n",
       "      <th>city</th>\n",
       "      <th>region</th>\n",
       "    </tr>\n",
       "  </thead>\n",
       "  <tbody>\n",
       "    <tr>\n",
       "      <th>0</th>\n",
       "      <td>1.0</td>\n",
       "      <td>2021</td>\n",
       "      <td>Volkswagen</td>\n",
       "      <td>Polo</td>\n",
       "      <td>14 mars 2021</td>\n",
       "      <td>12500.0</td>\n",
       "      <td>Diesel</td>\n",
       "      <td>4</td>\n",
       "      <td>Jaune</td>\n",
       "      <td>Compacte</td>\n",
       "      <td>Ben arous</td>\n",
       "      <td>Ezzahra</td>\n",
       "    </tr>\n",
       "    <tr>\n",
       "      <th>1</th>\n",
       "      <td>180000.0</td>\n",
       "      <td>2008</td>\n",
       "      <td>Opel</td>\n",
       "      <td>Astra</td>\n",
       "      <td>14 mars 2021</td>\n",
       "      <td>21500.0</td>\n",
       "      <td>Diesel</td>\n",
       "      <td>1</td>\n",
       "      <td>Noir</td>\n",
       "      <td>Berline</td>\n",
       "      <td>Tunis</td>\n",
       "      <td>Tunis</td>\n",
       "    </tr>\n",
       "    <tr>\n",
       "      <th>2</th>\n",
       "      <td>1.0</td>\n",
       "      <td>2021</td>\n",
       "      <td>Volkswagen</td>\n",
       "      <td>Polo</td>\n",
       "      <td>14 mars 2021</td>\n",
       "      <td>12500.0</td>\n",
       "      <td>Diesel</td>\n",
       "      <td>4</td>\n",
       "      <td>Jaune</td>\n",
       "      <td>Compacte</td>\n",
       "      <td>Ben arous</td>\n",
       "      <td>Ezzahra</td>\n",
       "    </tr>\n",
       "    <tr>\n",
       "      <th>3</th>\n",
       "      <td>180000.0</td>\n",
       "      <td>2008</td>\n",
       "      <td>Opel</td>\n",
       "      <td>Astra</td>\n",
       "      <td>14 mars 2021</td>\n",
       "      <td>21500.0</td>\n",
       "      <td>Diesel</td>\n",
       "      <td>1</td>\n",
       "      <td>Noir</td>\n",
       "      <td>Berline</td>\n",
       "      <td>Tunis</td>\n",
       "      <td>Tunis</td>\n",
       "    </tr>\n",
       "    <tr>\n",
       "      <th>4</th>\n",
       "      <td>200000.0</td>\n",
       "      <td>1999</td>\n",
       "      <td>Renault</td>\n",
       "      <td>12</td>\n",
       "      <td>14 mars 2021</td>\n",
       "      <td>111111.0</td>\n",
       "      <td>Essence</td>\n",
       "      <td>4</td>\n",
       "      <td>Blanc</td>\n",
       "      <td>Autres</td>\n",
       "      <td>Monastir</td>\n",
       "      <td>Autres villes</td>\n",
       "    </tr>\n",
       "  </tbody>\n",
       "</table>\n",
       "</div>"
      ],
      "text/plain": [
       "   Kms_Driven  year       brand  model          date     price Fuel_Type  \\\n",
       "0         1.0  2021  Volkswagen   Polo  14 mars 2021   12500.0    Diesel   \n",
       "1    180000.0  2008        Opel  Astra  14 mars 2021   21500.0    Diesel   \n",
       "2         1.0  2021  Volkswagen   Polo  14 mars 2021   12500.0    Diesel   \n",
       "3    180000.0  2008        Opel  Astra  14 mars 2021   21500.0    Diesel   \n",
       "4    200000.0  1999     Renault     12  14 mars 2021  111111.0   Essence   \n",
       "\n",
       "  Horse_pow  Color body_style       city         region  \n",
       "0         4  Jaune   Compacte  Ben arous        Ezzahra  \n",
       "1         1   Noir    Berline      Tunis          Tunis  \n",
       "2         4  Jaune   Compacte  Ben arous        Ezzahra  \n",
       "3         1   Noir    Berline      Tunis          Tunis  \n",
       "4         4  Blanc     Autres   Monastir  Autres villes  "
      ]
     },
     "execution_count": 15,
     "metadata": {},
     "output_type": "execute_result"
    }
   ],
   "source": [
    "df[['city','region']] = df.location.str.split(', ',expand=True)\n",
    "df.drop('location',axis=1, inplace=True)\n",
    "df.head()"
   ]
  },
  {
   "cell_type": "code",
   "execution_count": 16,
   "metadata": {},
   "outputs": [
    {
     "data": {
      "text/plain": [
       "Kms_Driven    7\n",
       "year          2\n",
       "brand         2\n",
       "model         3\n",
       "date          0\n",
       "price         5\n",
       "Fuel_Type     3\n",
       "Horse_pow     3\n",
       "Color         3\n",
       "body_style    3\n",
       "city          0\n",
       "region        0\n",
       "dtype: int64"
      ]
     },
     "execution_count": 16,
     "metadata": {},
     "output_type": "execute_result"
    }
   ],
   "source": [
    "#check for null values\n",
    "df.isnull().sum()"
   ]
  },
  {
   "cell_type": "code",
   "execution_count": 25,
   "metadata": {},
   "outputs": [
    {
     "data": {
      "text/html": [
       "<div>\n",
       "<style scoped>\n",
       "    .dataframe tbody tr th:only-of-type {\n",
       "        vertical-align: middle;\n",
       "    }\n",
       "\n",
       "    .dataframe tbody tr th {\n",
       "        vertical-align: top;\n",
       "    }\n",
       "\n",
       "    .dataframe thead th {\n",
       "        text-align: right;\n",
       "    }\n",
       "</style>\n",
       "<table border=\"1\" class=\"dataframe\">\n",
       "  <thead>\n",
       "    <tr style=\"text-align: right;\">\n",
       "      <th></th>\n",
       "      <th>Kms_Driven</th>\n",
       "      <th>year</th>\n",
       "      <th>brand</th>\n",
       "      <th>model</th>\n",
       "      <th>date</th>\n",
       "      <th>price</th>\n",
       "      <th>Fuel_Type</th>\n",
       "      <th>Horse_pow</th>\n",
       "      <th>Color</th>\n",
       "      <th>body_style</th>\n",
       "      <th>city</th>\n",
       "      <th>region</th>\n",
       "      <th>Current Year</th>\n",
       "    </tr>\n",
       "  </thead>\n",
       "  <tbody>\n",
       "    <tr>\n",
       "      <th>0</th>\n",
       "      <td>1.0</td>\n",
       "      <td>2021</td>\n",
       "      <td>Volkswagen</td>\n",
       "      <td>Polo</td>\n",
       "      <td>14 mars 2021</td>\n",
       "      <td>12500.0</td>\n",
       "      <td>Diesel</td>\n",
       "      <td>4</td>\n",
       "      <td>Jaune</td>\n",
       "      <td>Compacte</td>\n",
       "      <td>Ben arous</td>\n",
       "      <td>Ezzahra</td>\n",
       "      <td>2020</td>\n",
       "    </tr>\n",
       "    <tr>\n",
       "      <th>1</th>\n",
       "      <td>180000.0</td>\n",
       "      <td>2008</td>\n",
       "      <td>Opel</td>\n",
       "      <td>Astra</td>\n",
       "      <td>14 mars 2021</td>\n",
       "      <td>21500.0</td>\n",
       "      <td>Diesel</td>\n",
       "      <td>1</td>\n",
       "      <td>Noir</td>\n",
       "      <td>Berline</td>\n",
       "      <td>Tunis</td>\n",
       "      <td>Tunis</td>\n",
       "      <td>2020</td>\n",
       "    </tr>\n",
       "    <tr>\n",
       "      <th>2</th>\n",
       "      <td>1.0</td>\n",
       "      <td>2021</td>\n",
       "      <td>Volkswagen</td>\n",
       "      <td>Polo</td>\n",
       "      <td>14 mars 2021</td>\n",
       "      <td>12500.0</td>\n",
       "      <td>Diesel</td>\n",
       "      <td>4</td>\n",
       "      <td>Jaune</td>\n",
       "      <td>Compacte</td>\n",
       "      <td>Ben arous</td>\n",
       "      <td>Ezzahra</td>\n",
       "      <td>2020</td>\n",
       "    </tr>\n",
       "    <tr>\n",
       "      <th>3</th>\n",
       "      <td>180000.0</td>\n",
       "      <td>2008</td>\n",
       "      <td>Opel</td>\n",
       "      <td>Astra</td>\n",
       "      <td>14 mars 2021</td>\n",
       "      <td>21500.0</td>\n",
       "      <td>Diesel</td>\n",
       "      <td>1</td>\n",
       "      <td>Noir</td>\n",
       "      <td>Berline</td>\n",
       "      <td>Tunis</td>\n",
       "      <td>Tunis</td>\n",
       "      <td>2020</td>\n",
       "    </tr>\n",
       "    <tr>\n",
       "      <th>4</th>\n",
       "      <td>200000.0</td>\n",
       "      <td>1999</td>\n",
       "      <td>Renault</td>\n",
       "      <td>12</td>\n",
       "      <td>14 mars 2021</td>\n",
       "      <td>111111.0</td>\n",
       "      <td>Essence</td>\n",
       "      <td>4</td>\n",
       "      <td>Blanc</td>\n",
       "      <td>Autres</td>\n",
       "      <td>Monastir</td>\n",
       "      <td>Autres villes</td>\n",
       "      <td>2020</td>\n",
       "    </tr>\n",
       "    <tr>\n",
       "      <th>...</th>\n",
       "      <td>...</td>\n",
       "      <td>...</td>\n",
       "      <td>...</td>\n",
       "      <td>...</td>\n",
       "      <td>...</td>\n",
       "      <td>...</td>\n",
       "      <td>...</td>\n",
       "      <td>...</td>\n",
       "      <td>...</td>\n",
       "      <td>...</td>\n",
       "      <td>...</td>\n",
       "      <td>...</td>\n",
       "      <td>...</td>\n",
       "    </tr>\n",
       "    <tr>\n",
       "      <th>10725</th>\n",
       "      <td>86000.0</td>\n",
       "      <td>2013</td>\n",
       "      <td>Peugeot</td>\n",
       "      <td>208</td>\n",
       "      <td>6 février 2021</td>\n",
       "      <td>28800.0</td>\n",
       "      <td>Essence</td>\n",
       "      <td>5</td>\n",
       "      <td>Bleu</td>\n",
       "      <td>Compacte</td>\n",
       "      <td>Ben arous</td>\n",
       "      <td>Radès</td>\n",
       "      <td>2020</td>\n",
       "    </tr>\n",
       "    <tr>\n",
       "      <th>10726</th>\n",
       "      <td>232000.0</td>\n",
       "      <td>2009</td>\n",
       "      <td>Renault</td>\n",
       "      <td>Megane</td>\n",
       "      <td>6 février 2021</td>\n",
       "      <td>23500.0</td>\n",
       "      <td>Essence</td>\n",
       "      <td>6</td>\n",
       "      <td>Noir</td>\n",
       "      <td>Berline</td>\n",
       "      <td>Gafsa</td>\n",
       "      <td>Redeyef</td>\n",
       "      <td>2020</td>\n",
       "    </tr>\n",
       "    <tr>\n",
       "      <th>10727</th>\n",
       "      <td>101000.0</td>\n",
       "      <td>2015</td>\n",
       "      <td>Kia</td>\n",
       "      <td>Rio</td>\n",
       "      <td>6 février 2021</td>\n",
       "      <td>37500.0</td>\n",
       "      <td>Essence</td>\n",
       "      <td>5</td>\n",
       "      <td>Noir</td>\n",
       "      <td>Berline</td>\n",
       "      <td>Sfax</td>\n",
       "      <td>Sfax Médina</td>\n",
       "      <td>2020</td>\n",
       "    </tr>\n",
       "    <tr>\n",
       "      <th>10728</th>\n",
       "      <td>273000.0</td>\n",
       "      <td>2008</td>\n",
       "      <td>Volkswagen</td>\n",
       "      <td>Passat</td>\n",
       "      <td>6 février 2021</td>\n",
       "      <td>29000.0</td>\n",
       "      <td>Essence</td>\n",
       "      <td>7</td>\n",
       "      <td>Noir</td>\n",
       "      <td>Autres</td>\n",
       "      <td>Tataouine</td>\n",
       "      <td>Tataouine</td>\n",
       "      <td>2020</td>\n",
       "    </tr>\n",
       "    <tr>\n",
       "      <th>10729</th>\n",
       "      <td>148000.0</td>\n",
       "      <td>2016</td>\n",
       "      <td>Volkswagen</td>\n",
       "      <td>Passat</td>\n",
       "      <td>6 février 2021</td>\n",
       "      <td>65.0</td>\n",
       "      <td>Essence</td>\n",
       "      <td>7</td>\n",
       "      <td>Noir</td>\n",
       "      <td>Berline</td>\n",
       "      <td>Ariana</td>\n",
       "      <td>Ariana Ville</td>\n",
       "      <td>2020</td>\n",
       "    </tr>\n",
       "  </tbody>\n",
       "</table>\n",
       "<p>10721 rows × 13 columns</p>\n",
       "</div>"
      ],
      "text/plain": [
       "       Kms_Driven  year       brand   model            date     price  \\\n",
       "0             1.0  2021  Volkswagen    Polo    14 mars 2021   12500.0   \n",
       "1        180000.0  2008        Opel   Astra    14 mars 2021   21500.0   \n",
       "2             1.0  2021  Volkswagen    Polo    14 mars 2021   12500.0   \n",
       "3        180000.0  2008        Opel   Astra    14 mars 2021   21500.0   \n",
       "4        200000.0  1999     Renault      12    14 mars 2021  111111.0   \n",
       "...           ...   ...         ...     ...             ...       ...   \n",
       "10725     86000.0  2013     Peugeot     208  6 février 2021   28800.0   \n",
       "10726    232000.0  2009     Renault  Megane  6 février 2021   23500.0   \n",
       "10727    101000.0  2015         Kia     Rio  6 février 2021   37500.0   \n",
       "10728    273000.0  2008  Volkswagen  Passat  6 février 2021   29000.0   \n",
       "10729    148000.0  2016  Volkswagen  Passat  6 février 2021      65.0   \n",
       "\n",
       "      Fuel_Type Horse_pow  Color body_style       city         region  \\\n",
       "0        Diesel         4  Jaune   Compacte  Ben arous        Ezzahra   \n",
       "1        Diesel         1   Noir    Berline      Tunis          Tunis   \n",
       "2        Diesel         4  Jaune   Compacte  Ben arous        Ezzahra   \n",
       "3        Diesel         1   Noir    Berline      Tunis          Tunis   \n",
       "4       Essence         4  Blanc     Autres   Monastir  Autres villes   \n",
       "...         ...       ...    ...        ...        ...            ...   \n",
       "10725   Essence         5   Bleu   Compacte  Ben arous          Radès   \n",
       "10726   Essence         6   Noir    Berline      Gafsa        Redeyef   \n",
       "10727   Essence         5   Noir    Berline       Sfax    Sfax Médina   \n",
       "10728   Essence         7   Noir     Autres  Tataouine      Tataouine   \n",
       "10729   Essence         7   Noir    Berline     Ariana   Ariana Ville   \n",
       "\n",
       "       Current Year  \n",
       "0              2020  \n",
       "1              2020  \n",
       "2              2020  \n",
       "3              2020  \n",
       "4              2020  \n",
       "...             ...  \n",
       "10725          2020  \n",
       "10726          2020  \n",
       "10727          2020  \n",
       "10728          2020  \n",
       "10729          2020  \n",
       "\n",
       "[10721 rows x 13 columns]"
      ]
     },
     "execution_count": 25,
     "metadata": {},
     "output_type": "execute_result"
    }
   ],
   "source": [
    "df.dropna()\n"
   ]
  },
  {
   "cell_type": "code",
   "execution_count": 27,
   "metadata": {},
   "outputs": [],
   "source": [
    "#df['year']=df['year'].astype(int)\n",
    "#df.drop(df[df['year']=='BMW'].index,inplace=True)\n",
    "df = df[~df['year'].isnull()]\n"
   ]
  },
  {
   "cell_type": "code",
   "execution_count": 28,
   "metadata": {},
   "outputs": [
    {
     "name": "stderr",
     "output_type": "stream",
     "text": [
      "<ipython-input-28-d065cfac7303>:1: SettingWithCopyWarning: \n",
      "A value is trying to be set on a copy of a slice from a DataFrame.\n",
      "Try using .loc[row_indexer,col_indexer] = value instead\n",
      "\n",
      "See the caveats in the documentation: https://pandas.pydata.org/pandas-docs/stable/user_guide/indexing.html#returning-a-view-versus-a-copy\n",
      "  df['year']=df['year'].astype(int)\n"
     ]
    }
   ],
   "source": [
    "df['year']=df['year'].astype(int)"
   ]
  },
  {
   "cell_type": "code",
   "execution_count": 36,
   "metadata": {},
   "outputs": [
    {
     "data": {
      "text/plain": [
       "Kms_Driven      float64\n",
       "year              int32\n",
       "brand            object\n",
       "model            object\n",
       "date             object\n",
       "price           float64\n",
       "Fuel_Type        object\n",
       "Horse_pow        object\n",
       "Color            object\n",
       "body_style       object\n",
       "city             object\n",
       "region           object\n",
       "Current Year      int64\n",
       "dtype: object"
      ]
     },
     "execution_count": 36,
     "metadata": {},
     "output_type": "execute_result"
    }
   ],
   "source": [
    "df.dtypes"
   ]
  },
  {
   "cell_type": "code",
   "execution_count": null,
   "metadata": {},
   "outputs": [],
   "source": [
    "#handling year column:"
   ]
  },
  {
   "cell_type": "code",
   "execution_count": 39,
   "metadata": {},
   "outputs": [
    {
     "data": {
      "text/plain": [
       "count    1.072700e+04\n",
       "mean     5.382364e+05\n",
       "std      2.967504e+07\n",
       "min     -2.001000e+03\n",
       "25%      2.001000e+03\n",
       "50%      2.009000e+03\n",
       "75%      2.014000e+03\n",
       "max      2.147484e+09\n",
       "Name: year, dtype: float64"
      ]
     },
     "execution_count": 39,
     "metadata": {},
     "output_type": "execute_result"
    }
   ],
   "source": [
    "df.year.describe()"
   ]
  },
  {
   "cell_type": "code",
   "execution_count": 54,
   "metadata": {},
   "outputs": [
    {
     "name": "stdout",
     "output_type": "stream",
     "text": [
      "0        False\n",
      "1        False\n",
      "2        False\n",
      "3        False\n",
      "4        False\n",
      "         ...  \n",
      "10725    False\n",
      "10726    False\n",
      "10727    False\n",
      "10728    False\n",
      "10729    False\n",
      "Name: year, Length: 10271, dtype: bool\n",
      "0        False\n",
      "1        False\n",
      "2        False\n",
      "3        False\n",
      "4        False\n",
      "         ...  \n",
      "10725    False\n",
      "10726    False\n",
      "10727    False\n",
      "10728    False\n",
      "10729    False\n",
      "Name: year, Length: 10271, dtype: bool\n"
     ]
    },
    {
     "data": {
      "text/plain": [
       "array([False])"
      ]
     },
     "execution_count": 54,
     "metadata": {},
     "output_type": "execute_result"
    }
   ],
   "source": [
    "#removing faulty years : cars that were made before 1800 and after 2021\n",
    "absurd_year_past=df.year > 2021\n",
    "absurd_year_future=df.year < 1800\n",
    "print(absurd_year_past)\n",
    "print(absurd_year_future)\n",
    "absurd_year_past.unique()\n",
    "absurd_year_future.unique()"
   ]
  },
  {
   "cell_type": "code",
   "execution_count": 55,
   "metadata": {},
   "outputs": [],
   "source": [
    "absurd_year=absurd_year_past|absurd_year_future"
   ]
  },
  {
   "cell_type": "code",
   "execution_count": 56,
   "metadata": {},
   "outputs": [],
   "source": [
    "df.drop(df[absurd_year].index,inplace=True)\n"
   ]
  },
  {
   "cell_type": "code",
   "execution_count": 58,
   "metadata": {},
   "outputs": [
    {
     "data": {
      "text/html": [
       "<div>\n",
       "<style scoped>\n",
       "    .dataframe tbody tr th:only-of-type {\n",
       "        vertical-align: middle;\n",
       "    }\n",
       "\n",
       "    .dataframe tbody tr th {\n",
       "        vertical-align: top;\n",
       "    }\n",
       "\n",
       "    .dataframe thead th {\n",
       "        text-align: right;\n",
       "    }\n",
       "</style>\n",
       "<table border=\"1\" class=\"dataframe\">\n",
       "  <thead>\n",
       "    <tr style=\"text-align: right;\">\n",
       "      <th></th>\n",
       "      <th>Kms_Driven</th>\n",
       "      <th>year</th>\n",
       "      <th>brand</th>\n",
       "      <th>model</th>\n",
       "      <th>date</th>\n",
       "      <th>price</th>\n",
       "      <th>Fuel_Type</th>\n",
       "      <th>Horse_pow</th>\n",
       "      <th>Color</th>\n",
       "      <th>body_style</th>\n",
       "      <th>city</th>\n",
       "      <th>region</th>\n",
       "      <th>nb_year</th>\n",
       "    </tr>\n",
       "  </thead>\n",
       "  <tbody>\n",
       "    <tr>\n",
       "      <th>0</th>\n",
       "      <td>1.0</td>\n",
       "      <td>2021</td>\n",
       "      <td>Volkswagen</td>\n",
       "      <td>Polo</td>\n",
       "      <td>14 mars 2021</td>\n",
       "      <td>12500.0</td>\n",
       "      <td>Diesel</td>\n",
       "      <td>4</td>\n",
       "      <td>Jaune</td>\n",
       "      <td>Compacte</td>\n",
       "      <td>Ben arous</td>\n",
       "      <td>Ezzahra</td>\n",
       "      <td>0</td>\n",
       "    </tr>\n",
       "    <tr>\n",
       "      <th>1</th>\n",
       "      <td>180000.0</td>\n",
       "      <td>2008</td>\n",
       "      <td>Opel</td>\n",
       "      <td>Astra</td>\n",
       "      <td>14 mars 2021</td>\n",
       "      <td>21500.0</td>\n",
       "      <td>Diesel</td>\n",
       "      <td>1</td>\n",
       "      <td>Noir</td>\n",
       "      <td>Berline</td>\n",
       "      <td>Tunis</td>\n",
       "      <td>Tunis</td>\n",
       "      <td>13</td>\n",
       "    </tr>\n",
       "    <tr>\n",
       "      <th>2</th>\n",
       "      <td>1.0</td>\n",
       "      <td>2021</td>\n",
       "      <td>Volkswagen</td>\n",
       "      <td>Polo</td>\n",
       "      <td>14 mars 2021</td>\n",
       "      <td>12500.0</td>\n",
       "      <td>Diesel</td>\n",
       "      <td>4</td>\n",
       "      <td>Jaune</td>\n",
       "      <td>Compacte</td>\n",
       "      <td>Ben arous</td>\n",
       "      <td>Ezzahra</td>\n",
       "      <td>0</td>\n",
       "    </tr>\n",
       "    <tr>\n",
       "      <th>3</th>\n",
       "      <td>180000.0</td>\n",
       "      <td>2008</td>\n",
       "      <td>Opel</td>\n",
       "      <td>Astra</td>\n",
       "      <td>14 mars 2021</td>\n",
       "      <td>21500.0</td>\n",
       "      <td>Diesel</td>\n",
       "      <td>1</td>\n",
       "      <td>Noir</td>\n",
       "      <td>Berline</td>\n",
       "      <td>Tunis</td>\n",
       "      <td>Tunis</td>\n",
       "      <td>13</td>\n",
       "    </tr>\n",
       "    <tr>\n",
       "      <th>4</th>\n",
       "      <td>200000.0</td>\n",
       "      <td>1999</td>\n",
       "      <td>Renault</td>\n",
       "      <td>12</td>\n",
       "      <td>14 mars 2021</td>\n",
       "      <td>111111.0</td>\n",
       "      <td>Essence</td>\n",
       "      <td>4</td>\n",
       "      <td>Blanc</td>\n",
       "      <td>Autres</td>\n",
       "      <td>Monastir</td>\n",
       "      <td>Autres villes</td>\n",
       "      <td>22</td>\n",
       "    </tr>\n",
       "  </tbody>\n",
       "</table>\n",
       "</div>"
      ],
      "text/plain": [
       "   Kms_Driven  year       brand  model          date     price Fuel_Type  \\\n",
       "0         1.0  2021  Volkswagen   Polo  14 mars 2021   12500.0    Diesel   \n",
       "1    180000.0  2008        Opel  Astra  14 mars 2021   21500.0    Diesel   \n",
       "2         1.0  2021  Volkswagen   Polo  14 mars 2021   12500.0    Diesel   \n",
       "3    180000.0  2008        Opel  Astra  14 mars 2021   21500.0    Diesel   \n",
       "4    200000.0  1999     Renault     12  14 mars 2021  111111.0   Essence   \n",
       "\n",
       "  Horse_pow  Color body_style       city         region  nb_year  \n",
       "0         4  Jaune   Compacte  Ben arous        Ezzahra        0  \n",
       "1         1   Noir    Berline      Tunis          Tunis       13  \n",
       "2         4  Jaune   Compacte  Ben arous        Ezzahra        0  \n",
       "3         1   Noir    Berline      Tunis          Tunis       13  \n",
       "4         4  Blanc     Autres   Monastir  Autres villes       22  "
      ]
     },
     "execution_count": 58,
     "metadata": {},
     "output_type": "execute_result"
    }
   ],
   "source": [
    "df['Current Year']=2021\n",
    "df['nb_year']=df['Current Year']- df['year']\n",
    "df=df.drop(['Current Year'],axis=1)\n",
    "\n",
    "df.head()"
   ]
  },
  {
   "cell_type": "code",
   "execution_count": 59,
   "metadata": {},
   "outputs": [
    {
     "data": {
      "text/html": [
       "<div>\n",
       "<style scoped>\n",
       "    .dataframe tbody tr th:only-of-type {\n",
       "        vertical-align: middle;\n",
       "    }\n",
       "\n",
       "    .dataframe tbody tr th {\n",
       "        vertical-align: top;\n",
       "    }\n",
       "\n",
       "    .dataframe thead th {\n",
       "        text-align: right;\n",
       "    }\n",
       "</style>\n",
       "<table border=\"1\" class=\"dataframe\">\n",
       "  <thead>\n",
       "    <tr style=\"text-align: right;\">\n",
       "      <th></th>\n",
       "      <th>Kms_Driven</th>\n",
       "      <th>year</th>\n",
       "      <th>brand</th>\n",
       "      <th>model</th>\n",
       "      <th>date</th>\n",
       "      <th>price</th>\n",
       "      <th>Fuel_Type</th>\n",
       "      <th>Horse_pow</th>\n",
       "      <th>Color</th>\n",
       "      <th>body_style</th>\n",
       "      <th>city</th>\n",
       "      <th>region</th>\n",
       "      <th>nb_year</th>\n",
       "    </tr>\n",
       "  </thead>\n",
       "  <tbody>\n",
       "    <tr>\n",
       "      <th>count</th>\n",
       "      <td>1.026600e+04</td>\n",
       "      <td>10271.00000</td>\n",
       "      <td>10271</td>\n",
       "      <td>10270</td>\n",
       "      <td>10271</td>\n",
       "      <td>10266.000000</td>\n",
       "      <td>10270</td>\n",
       "      <td>10270</td>\n",
       "      <td>10270</td>\n",
       "      <td>10270</td>\n",
       "      <td>10271</td>\n",
       "      <td>10271</td>\n",
       "      <td>10271.00000</td>\n",
       "    </tr>\n",
       "    <tr>\n",
       "      <th>unique</th>\n",
       "      <td>NaN</td>\n",
       "      <td>NaN</td>\n",
       "      <td>60</td>\n",
       "      <td>525</td>\n",
       "      <td>37</td>\n",
       "      <td>NaN</td>\n",
       "      <td>4</td>\n",
       "      <td>317</td>\n",
       "      <td>32</td>\n",
       "      <td>36</td>\n",
       "      <td>24</td>\n",
       "      <td>286</td>\n",
       "      <td>NaN</td>\n",
       "    </tr>\n",
       "    <tr>\n",
       "      <th>top</th>\n",
       "      <td>NaN</td>\n",
       "      <td>NaN</td>\n",
       "      <td>Volkswagen</td>\n",
       "      <td>Polo</td>\n",
       "      <td>13 mars 2021</td>\n",
       "      <td>NaN</td>\n",
       "      <td>Essence</td>\n",
       "      <td>5</td>\n",
       "      <td>Blanc</td>\n",
       "      <td>Berline</td>\n",
       "      <td>Tunis</td>\n",
       "      <td>Autres villes</td>\n",
       "      <td>NaN</td>\n",
       "    </tr>\n",
       "    <tr>\n",
       "      <th>freq</th>\n",
       "      <td>NaN</td>\n",
       "      <td>NaN</td>\n",
       "      <td>1498</td>\n",
       "      <td>497</td>\n",
       "      <td>811</td>\n",
       "      <td>NaN</td>\n",
       "      <td>6413</td>\n",
       "      <td>3208</td>\n",
       "      <td>2431</td>\n",
       "      <td>2766</td>\n",
       "      <td>3260</td>\n",
       "      <td>4799</td>\n",
       "      <td>NaN</td>\n",
       "    </tr>\n",
       "    <tr>\n",
       "      <th>mean</th>\n",
       "      <td>7.587369e+06</td>\n",
       "      <td>2007.39704</td>\n",
       "      <td>NaN</td>\n",
       "      <td>NaN</td>\n",
       "      <td>NaN</td>\n",
       "      <td>22625.948763</td>\n",
       "      <td>NaN</td>\n",
       "      <td>NaN</td>\n",
       "      <td>NaN</td>\n",
       "      <td>NaN</td>\n",
       "      <td>NaN</td>\n",
       "      <td>NaN</td>\n",
       "      <td>13.60296</td>\n",
       "    </tr>\n",
       "    <tr>\n",
       "      <th>std</th>\n",
       "      <td>1.156824e+08</td>\n",
       "      <td>9.31929</td>\n",
       "      <td>NaN</td>\n",
       "      <td>NaN</td>\n",
       "      <td>NaN</td>\n",
       "      <td>23572.252560</td>\n",
       "      <td>NaN</td>\n",
       "      <td>NaN</td>\n",
       "      <td>NaN</td>\n",
       "      <td>NaN</td>\n",
       "      <td>NaN</td>\n",
       "      <td>NaN</td>\n",
       "      <td>9.31929</td>\n",
       "    </tr>\n",
       "    <tr>\n",
       "      <th>min</th>\n",
       "      <td>-3.740000e+05</td>\n",
       "      <td>1880.00000</td>\n",
       "      <td>NaN</td>\n",
       "      <td>NaN</td>\n",
       "      <td>NaN</td>\n",
       "      <td>5.000000</td>\n",
       "      <td>NaN</td>\n",
       "      <td>NaN</td>\n",
       "      <td>NaN</td>\n",
       "      <td>NaN</td>\n",
       "      <td>NaN</td>\n",
       "      <td>NaN</td>\n",
       "      <td>0.00000</td>\n",
       "    </tr>\n",
       "    <tr>\n",
       "      <th>25%</th>\n",
       "      <td>2.500000e+02</td>\n",
       "      <td>2002.00000</td>\n",
       "      <td>NaN</td>\n",
       "      <td>NaN</td>\n",
       "      <td>NaN</td>\n",
       "      <td>6000.000000</td>\n",
       "      <td>NaN</td>\n",
       "      <td>NaN</td>\n",
       "      <td>NaN</td>\n",
       "      <td>NaN</td>\n",
       "      <td>NaN</td>\n",
       "      <td>NaN</td>\n",
       "      <td>7.00000</td>\n",
       "    </tr>\n",
       "    <tr>\n",
       "      <th>50%</th>\n",
       "      <td>9.400000e+04</td>\n",
       "      <td>2010.00000</td>\n",
       "      <td>NaN</td>\n",
       "      <td>NaN</td>\n",
       "      <td>NaN</td>\n",
       "      <td>18500.000000</td>\n",
       "      <td>NaN</td>\n",
       "      <td>NaN</td>\n",
       "      <td>NaN</td>\n",
       "      <td>NaN</td>\n",
       "      <td>NaN</td>\n",
       "      <td>NaN</td>\n",
       "      <td>11.00000</td>\n",
       "    </tr>\n",
       "    <tr>\n",
       "      <th>75%</th>\n",
       "      <td>1.999295e+05</td>\n",
       "      <td>2014.00000</td>\n",
       "      <td>NaN</td>\n",
       "      <td>NaN</td>\n",
       "      <td>NaN</td>\n",
       "      <td>31000.000000</td>\n",
       "      <td>NaN</td>\n",
       "      <td>NaN</td>\n",
       "      <td>NaN</td>\n",
       "      <td>NaN</td>\n",
       "      <td>NaN</td>\n",
       "      <td>NaN</td>\n",
       "      <td>19.00000</td>\n",
       "    </tr>\n",
       "    <tr>\n",
       "      <th>max</th>\n",
       "      <td>2.147484e+09</td>\n",
       "      <td>2021.00000</td>\n",
       "      <td>NaN</td>\n",
       "      <td>NaN</td>\n",
       "      <td>NaN</td>\n",
       "      <td>200000.000000</td>\n",
       "      <td>NaN</td>\n",
       "      <td>NaN</td>\n",
       "      <td>NaN</td>\n",
       "      <td>NaN</td>\n",
       "      <td>NaN</td>\n",
       "      <td>NaN</td>\n",
       "      <td>141.00000</td>\n",
       "    </tr>\n",
       "  </tbody>\n",
       "</table>\n",
       "</div>"
      ],
      "text/plain": [
       "          Kms_Driven         year       brand  model          date  \\\n",
       "count   1.026600e+04  10271.00000       10271  10270         10271   \n",
       "unique           NaN          NaN          60    525            37   \n",
       "top              NaN          NaN  Volkswagen   Polo  13 mars 2021   \n",
       "freq             NaN          NaN        1498    497           811   \n",
       "mean    7.587369e+06   2007.39704         NaN    NaN           NaN   \n",
       "std     1.156824e+08      9.31929         NaN    NaN           NaN   \n",
       "min    -3.740000e+05   1880.00000         NaN    NaN           NaN   \n",
       "25%     2.500000e+02   2002.00000         NaN    NaN           NaN   \n",
       "50%     9.400000e+04   2010.00000         NaN    NaN           NaN   \n",
       "75%     1.999295e+05   2014.00000         NaN    NaN           NaN   \n",
       "max     2.147484e+09   2021.00000         NaN    NaN           NaN   \n",
       "\n",
       "                price Fuel_Type Horse_pow  Color body_style   city  \\\n",
       "count    10266.000000     10270     10270  10270      10270  10271   \n",
       "unique            NaN         4       317     32         36     24   \n",
       "top               NaN   Essence         5  Blanc    Berline  Tunis   \n",
       "freq              NaN      6413      3208   2431       2766   3260   \n",
       "mean     22625.948763       NaN       NaN    NaN        NaN    NaN   \n",
       "std      23572.252560       NaN       NaN    NaN        NaN    NaN   \n",
       "min          5.000000       NaN       NaN    NaN        NaN    NaN   \n",
       "25%       6000.000000       NaN       NaN    NaN        NaN    NaN   \n",
       "50%      18500.000000       NaN       NaN    NaN        NaN    NaN   \n",
       "75%      31000.000000       NaN       NaN    NaN        NaN    NaN   \n",
       "max     200000.000000       NaN       NaN    NaN        NaN    NaN   \n",
       "\n",
       "               region      nb_year  \n",
       "count           10271  10271.00000  \n",
       "unique            286          NaN  \n",
       "top     Autres villes          NaN  \n",
       "freq             4799          NaN  \n",
       "mean              NaN     13.60296  \n",
       "std               NaN      9.31929  \n",
       "min               NaN      0.00000  \n",
       "25%               NaN      7.00000  \n",
       "50%               NaN     11.00000  \n",
       "75%               NaN     19.00000  \n",
       "max               NaN    141.00000  "
      ]
     },
     "execution_count": 59,
     "metadata": {},
     "output_type": "execute_result"
    }
   ],
   "source": [
    "df.describe(include='all')"
   ]
  },
  {
   "cell_type": "code",
   "execution_count": null,
   "metadata": {},
   "outputs": [],
   "source": [
    "#handling Kms_driven"
   ]
  },
  {
   "cell_type": "code",
   "execution_count": 60,
   "metadata": {},
   "outputs": [
    {
     "data": {
      "text/plain": [
       "count    1.026600e+04\n",
       "mean     7.587369e+06\n",
       "std      1.156824e+08\n",
       "min     -3.740000e+05\n",
       "25%      2.500000e+02\n",
       "50%      9.400000e+04\n",
       "75%      1.999295e+05\n",
       "max      2.147484e+09\n",
       "Name: Kms_Driven, dtype: float64"
      ]
     },
     "execution_count": 60,
     "metadata": {},
     "output_type": "execute_result"
    }
   ],
   "source": [
    "\n",
    "df.Kms_Driven.describe()\n"
   ]
  },
  {
   "cell_type": "code",
   "execution_count": 61,
   "metadata": {},
   "outputs": [
    {
     "data": {
      "text/plain": [
       "count    1.025800e+04\n",
       "mean     7.593354e+06\n",
       "std      1.157273e+08\n",
       "min      0.000000e+00\n",
       "25%      2.500000e+02\n",
       "50%      9.400000e+04\n",
       "75%      1.999990e+05\n",
       "max      2.147484e+09\n",
       "Name: Kms_Driven, dtype: float64"
      ]
     },
     "execution_count": 61,
     "metadata": {},
     "output_type": "execute_result"
    }
   ],
   "source": [
    "#as u can see we have negative values\n",
    "drop_negatives=df.Kms_Driven < 0\n",
    "df.drop(df[drop_negatives].index, inplace=True)\n",
    "df.Kms_Driven.describe()"
   ]
  },
  {
   "cell_type": "code",
   "execution_count": 62,
   "metadata": {},
   "outputs": [
    {
     "data": {
      "text/plain": [
       "count     10258.000000\n",
       "mean      22629.122636\n",
       "std       23579.436841\n",
       "min           5.000000\n",
       "25%        6000.000000\n",
       "50%       18500.000000\n",
       "75%       31000.000000\n",
       "max      200000.000000\n",
       "Name: price, dtype: float64"
      ]
     },
     "execution_count": 62,
     "metadata": {},
     "output_type": "execute_result"
    }
   ],
   "source": [
    "#handling prices\n",
    "df.price.describe()"
   ]
  },
  {
   "cell_type": "code",
   "execution_count": 63,
   "metadata": {},
   "outputs": [],
   "source": [
    "#some people refer to 10 000dt as 10dt\n",
    "below100 = df.price < 100\n",
    "df.loc[below100,'price'] *= 1000"
   ]
  },
  {
   "cell_type": "code",
   "execution_count": 65,
   "metadata": {},
   "outputs": [
    {
     "data": {
      "text/plain": [
       "count     10258.000000\n",
       "mean      27597.243712\n",
       "std       22195.477054\n",
       "min         100.000000\n",
       "25%       13700.000000\n",
       "50%       23000.000000\n",
       "75%       35000.000000\n",
       "max      200000.000000\n",
       "Name: price, dtype: float64"
      ]
     },
     "execution_count": 65,
     "metadata": {},
     "output_type": "execute_result"
    }
   ],
   "source": [
    "df.price.describe(include=\"all\")"
   ]
  },
  {
   "cell_type": "code",
   "execution_count": 66,
   "metadata": {},
   "outputs": [
    {
     "data": {
      "text/plain": [
       "<seaborn.axisgrid.PairGrid at 0x19334bb16d0>"
      ]
     },
     "execution_count": 66,
     "metadata": {},
     "output_type": "execute_result"
    },
    {
     "data": {
      "image/png": "[encoded data removed]",
      "text/plain": [
       "<Figure size 720x720 with 20 Axes>"
      ]
     },
     "metadata": {
      "needs_background": "light"
     },
     "output_type": "display_data"
    }
   ],
   "source": [
    "import seaborn as sns\n",
    "sns.pairplot(df)"
   ]
  },
  {
   "cell_type": "code",
   "execution_count": 69,
   "metadata": {},
   "outputs": [],
   "source": [
    "#date column serves no perpose\n",
    "df.drop(columns=['date'],inplace=True)"
   ]
  },
  {
   "cell_type": "code",
   "execution_count": 74,
   "metadata": {},
   "outputs": [
    {
     "name": "stdout",
     "output_type": "stream",
     "text": [
      "['-1', 'Blanc', '-1']\n"
     ]
    }
   ],
   "source": [
    "#handling horse power column\n",
    "\n",
    "outliers= df.loc[~df['Horse_pow'].astype(str).str.isdigit(), 'Horse_pow'].tolist() #finding the outlaws that aren't a null value\n",
    "print(outliers)"
   ]
  },
  {
   "cell_type": "code",
   "execution_count": 75,
   "metadata": {},
   "outputs": [],
   "source": [
    "df = df[~df['Horse_pow'].isin(outlaws)]#removing outlaws from Horse power Column\n"
   ]
  },
  {
   "cell_type": "code",
   "execution_count": 77,
   "metadata": {},
   "outputs": [],
   "source": [
    "df = df[~df['Horse_pow'].isnull()]#removing nulled value from Horse Pow Column\n",
    "df['Horse_pow']=df['Horse_pow'].astype(int)#converting Horse Power Column Type to integer"
   ]
  },
  {
   "cell_type": "code",
   "execution_count": 78,
   "metadata": {},
   "outputs": [
    {
     "data": {
      "text/plain": [
       "count    1.025900e+04\n",
       "mean     2.113539e+06\n",
       "std      6.155507e+07\n",
       "min      0.000000e+00\n",
       "25%      5.000000e+00\n",
       "50%      6.000000e+00\n",
       "75%      7.000000e+00\n",
       "max      2.147484e+09\n",
       "Name: Horse_pow, dtype: float64"
      ]
     },
     "execution_count": 78,
     "metadata": {},
     "output_type": "execute_result"
    }
   ],
   "source": [
    "df.Horse_pow.describe()"
   ]
  },
  {
   "cell_type": "code",
   "execution_count": 84,
   "metadata": {},
   "outputs": [],
   "source": [
    "# 0 horse power is not logical so we're gonna assign the mean value to them\n",
    "zeroHP = df.Horse_pow == 0.0\n",
    "\n",
    "df.loc[zeroHP,'Horse_pow']= df.Horse_pow.mean()"
   ]
  },
  {
   "cell_type": "code",
   "execution_count": 85,
   "metadata": {
    "scrolled": false
   },
   "outputs": [
    {
     "data": {
      "text/plain": [
       "count    1.025900e+04\n",
       "mean     2.132081e+06\n",
       "std      6.155475e+07\n",
       "min      1.000000e+00\n",
       "25%      5.000000e+00\n",
       "50%      6.000000e+00\n",
       "75%      7.000000e+00\n",
       "max      2.147484e+09\n",
       "Name: Horse_pow, dtype: float64"
      ]
     },
     "execution_count": 85,
     "metadata": {},
     "output_type": "execute_result"
    }
   ],
   "source": [
    "df.Horse_pow.describe()"
   ]
  },
  {
   "cell_type": "code",
   "execution_count": 88,
   "metadata": {},
   "outputs": [
    {
     "data": {
      "text/plain": [
       "array(['Diesel', 'Essence', 'Electrique', 'Hybride'], dtype=object)"
      ]
     },
     "execution_count": 88,
     "metadata": {},
     "output_type": "execute_result"
    }
   ],
   "source": [
    "df.Fuel_Type.unique()"
   ]
  },
  {
   "cell_type": "code",
   "execution_count": 89,
   "metadata": {},
   "outputs": [],
   "source": [
    "#region is filled with Autre villes , so we're going to remove it and only keep the city column\n",
    "df.drop([\"region\"],axis=1,inplace=True)\n"
   ]
  },
  {
   "cell_type": "code",
   "execution_count": 96,
   "metadata": {},
   "outputs": [
    {
     "name": "stdout",
     "output_type": "stream",
     "text": [
      "['Ben arous' 'Tunis' 'Monastir' 'Sfax' 'Nabeul' 'Sousse' 'Ariana'\n",
      " 'Zaghouan' 'Bizerte' 'Siliana' 'Gafsa' 'Le kef' 'Tataouine' 'Jendouba'\n",
      " 'Médenine' 'Béja' 'Kairouan' 'La manouba' 'Gabès' 'Kébili' 'Sidi bouzid'\n",
      " 'Mahdia' 'Tozeur' 'Kasserine']\n"
     ]
    },
    {
     "data": {
      "text/plain": [
       "24"
      ]
     },
     "execution_count": 96,
     "metadata": {},
     "output_type": "execute_result"
    }
   ],
   "source": [
    "#making sure we have all the cities: 24\n",
    "print(df.city.unique())\n",
    "\n",
    "len(df.city.unique())"
   ]
  },
  {
   "cell_type": "code",
   "execution_count": 102,
   "metadata": {},
   "outputs": [
    {
     "data": {
      "text/plain": [
       "array(['Jaune', 'Noir', 'Blanc', 'Nouveau', 'Marron', 'Gris', 'Bleu',\n",
       "       'Beige', 'Manuelle', 'Argent', 'Rouge', 'Vert', 'Camel',\n",
       "       'Avec kilométrage', 'Autre', 'Doré', 'Berline', '4 x 4', 'Corail',\n",
       "       'Automatique', 'Violet', 'Orange', 'Autres', 'Multicolore',\n",
       "       'Utilitaire', 'Compacte', 'Cabriolet', 'Monospace', 'RS',\n",
       "       'Pick up', 'Rose', 'Pièces manquantes'], dtype=object)"
      ]
     },
     "execution_count": 102,
     "metadata": {},
     "output_type": "execute_result"
    }
   ],
   "source": [
    "df.Color.unique()"
   ]
  },
  {
   "cell_type": "code",
   "execution_count": 103,
   "metadata": {},
   "outputs": [],
   "source": [
    "df.drop([\"Color\"],axis=1,inplace=True)\n"
   ]
  },
  {
   "cell_type": "code",
   "execution_count": 104,
   "metadata": {},
   "outputs": [
    {
     "data": {
      "text/plain": [
       "array(['Volkswagen', 'Opel', 'Renault', 'Peugeot', 'BMW', 'Isuzu',\n",
       "       'Nissan', 'Citroen', 'Mercedes-Benz', 'Fiat', 'Ford', 'Mazda',\n",
       "       'Hyundai', 'Mitsubishi', 'Audi', 'Seat', 'Chevrolet', 'Kia',\n",
       "       'Toyota', 'Rover', 'Suzuki', 'Ssangyong', 'Iveco', 'Autres',\n",
       "       'Acrea', 'Skoda', 'AC', 'Jeep', 'Smart', 'Dacia', 'Land Rover',\n",
       "       'Mahindra', 'Porsche', 'Daihatsu', 'mini', 'Honda', 'Alfa Romeo',\n",
       "       'Chery', 'Daewoo', 'Volvo', 'Jaguar', 'Aston Martin', 'Dodge',\n",
       "       'UFO', 'Masey Ferguson', 'Changhe', 'Cadillac', 'Geely', 'lancia',\n",
       "       'Infiniti', 'Chrysler', 'Subaru', 'Foton', 'BYD', 'Ferrari',\n",
       "       'Bentley', 'Maserati', 'Acura', 'Hummer'], dtype=object)"
      ]
     },
     "execution_count": 104,
     "metadata": {},
     "output_type": "execute_result"
    }
   ],
   "source": [
    "df.brand.unique()"
   ]
  },
  {
   "cell_type": "code",
   "execution_count": 105,
   "metadata": {},
   "outputs": [
    {
     "data": {
      "text/plain": [
       "525"
      ]
     },
     "execution_count": 105,
     "metadata": {},
     "output_type": "execute_result"
    }
   ],
   "source": [
    "df.model.nunique()"
   ]
  },
  {
   "cell_type": "code",
   "execution_count": 106,
   "metadata": {},
   "outputs": [
    {
     "data": {
      "text/plain": [
       "Kms_Driven    5\n",
       "year          0\n",
       "brand         0\n",
       "model         0\n",
       "price         5\n",
       "Fuel_Type     0\n",
       "Horse_pow     0\n",
       "body_style    0\n",
       "city          0\n",
       "nb_year       0\n",
       "dtype: int64"
      ]
     },
     "execution_count": 106,
     "metadata": {},
     "output_type": "execute_result"
    }
   ],
   "source": [
    "df.isnull().sum()"
   ]
  },
  {
   "cell_type": "code",
   "execution_count": 107,
   "metadata": {},
   "outputs": [],
   "source": [
    "df = df[~df['Kms_Driven'].isnull()]\n",
    "df = df[~df['price'].isnull()]\n"
   ]
  },
  {
   "cell_type": "code",
   "execution_count": 108,
   "metadata": {},
   "outputs": [
    {
     "data": {
      "text/plain": [
       "Kms_Driven    0\n",
       "year          0\n",
       "brand         0\n",
       "model         0\n",
       "price         0\n",
       "Fuel_Type     0\n",
       "Horse_pow     0\n",
       "body_style    0\n",
       "city          0\n",
       "nb_year       0\n",
       "dtype: int64"
      ]
     },
     "execution_count": 108,
     "metadata": {},
     "output_type": "execute_result"
    }
   ],
   "source": [
    "df.isnull().sum()"
   ]
  },
  {
   "cell_type": "code",
   "execution_count": 112,
   "metadata": {},
   "outputs": [
    {
     "data": {
      "text/plain": [
       "array(['Compacte', 'Berline', 'Autres', 'Manuelle', '4 x 4', '1.2',\n",
       "       'Avec kilométrage', 'Utilitaire', 'Monospace', 'Cabriolet', '1.9',\n",
       "       '1.4', '2.8', '&gt;4.0', '1.1', 'Nouveau', 'Pick up',\n",
       "       'Automatique', '1.6', 'RS', '2.5', '3.0', '2.0', '2.2', '1.5',\n",
       "       '&lt;1.0', 'Pièces manquantes', '1.7', '1.8', '1.3', '3.2', '3.5',\n",
       "       '2.7', 'Non dédouanné', '2.3', '2.4'], dtype=object)"
      ]
     },
     "execution_count": 112,
     "metadata": {},
     "output_type": "execute_result"
    }
   ],
   "source": [
    "df.body_style.unique()"
   ]
  },
  {
   "cell_type": "code",
   "execution_count": 125,
   "metadata": {},
   "outputs": [
    {
     "data": {
      "text/plain": [
       "count       10254\n",
       "unique         36\n",
       "top       Berline\n",
       "freq         2760\n",
       "Name: body_style, dtype: object"
      ]
     },
     "execution_count": 125,
     "metadata": {},
     "output_type": "execute_result"
    }
   ],
   "source": [
    "df['body_style'].describe()"
   ]
  },
  {
   "cell_type": "code",
   "execution_count": 1,
   "metadata": {},
   "outputs": [
    {
     "ename": "NameError",
     "evalue": "name 'df' is not defined",
     "output_type": "error",
     "traceback": [
      "\u001b[1;31m---------------------------------------------------------------------------\u001b[0m",
      "\u001b[1;31mNameError\u001b[0m                                 Traceback (most recent call last)",
      "\u001b[1;32m<ipython-input-1-c42a15b2c7cf>\u001b[0m in \u001b[0;36m<module>\u001b[1;34m\u001b[0m\n\u001b[1;32m----> 1\u001b[1;33m \u001b[0mdf\u001b[0m\u001b[1;33m.\u001b[0m\u001b[0mhead\u001b[0m\u001b[1;33m(\u001b[0m\u001b[1;33m)\u001b[0m\u001b[1;33m\u001b[0m\u001b[1;33m\u001b[0m\u001b[0m\n\u001b[0m",
      "\u001b[1;31mNameError\u001b[0m: name 'df' is not defined"
     ]
    }
   ],
   "source": []
  },
  {
   "cell_type": "code",
   "execution_count": 5,
   "metadata": {},
   "outputs": [
    {
     "ename": "AttributeError",
     "evalue": "module 'pandas' has no attribute 'to_csv'",
     "output_type": "error",
     "traceback": [
      "\u001b[1;31m---------------------------------------------------------------------------\u001b[0m",
      "\u001b[1;31mAttributeError\u001b[0m                            Traceback (most recent call last)",
      "\u001b[1;32m<ipython-input-5-fda1e58a5cd3>\u001b[0m in \u001b[0;36m<module>\u001b[1;34m\u001b[0m\n\u001b[1;32m----> 1\u001b[1;33m \u001b[0mdata\u001b[0m\u001b[1;33m=\u001b[0m\u001b[0mpd\u001b[0m\u001b[1;33m.\u001b[0m\u001b[0mto_csv\u001b[0m\u001b[1;33m(\u001b[0m\u001b[1;34m'clean_tayara_cars_dataset.csv'\u001b[0m\u001b[1;33m)\u001b[0m\u001b[1;33m\u001b[0m\u001b[1;33m\u001b[0m\u001b[0m\n\u001b[0m",
      "\u001b[1;32m~\\Anaconda3\\lib\\site-packages\\pandas\\__init__.py\u001b[0m in \u001b[0;36m__getattr__\u001b[1;34m(name)\u001b[0m\n\u001b[0;32m    261\u001b[0m             \u001b[1;32mreturn\u001b[0m \u001b[0m_SparseArray\u001b[0m\u001b[1;33m\u001b[0m\u001b[1;33m\u001b[0m\u001b[0m\n\u001b[0;32m    262\u001b[0m \u001b[1;33m\u001b[0m\u001b[0m\n\u001b[1;32m--> 263\u001b[1;33m         \u001b[1;32mraise\u001b[0m \u001b[0mAttributeError\u001b[0m\u001b[1;33m(\u001b[0m\u001b[1;34mf\"module 'pandas' has no attribute '{name}'\"\u001b[0m\u001b[1;33m)\u001b[0m\u001b[1;33m\u001b[0m\u001b[1;33m\u001b[0m\u001b[0m\n\u001b[0m\u001b[0;32m    264\u001b[0m \u001b[1;33m\u001b[0m\u001b[0m\n\u001b[0;32m    265\u001b[0m \u001b[1;33m\u001b[0m\u001b[0m\n",
      "\u001b[1;31mAttributeError\u001b[0m: module 'pandas' has no attribute 'to_csv'"
     ]
    }
   ],
   "source": [
    "df.to_csv('clean_tayara_cars_dataset.csv')"
   ]
  },
  {
   "cell_type": "code",
   "execution_count": 28,
   "metadata": {},
   "outputs": [],
   "source": [
    "data=pd.read_csv('clean_tayara_cars.csv')"
   ]
  },
  {
   "cell_type": "code",
   "execution_count": 14,
   "metadata": {},
   "outputs": [],
   "source": [
    "polo=data.loc[data['model']=='Polo']"
   ]
  },
  {
   "cell_type": "code",
   "execution_count": 15,
   "metadata": {},
   "outputs": [
    {
     "data": {
      "text/plain": [
       "array(['Jaune', 'Nouveau', 'Blanc', 'Noir', 'Vert', 'Gris', 'Marron',\n",
       "       'Manuelle', 'Bleu', 'Beige', 'Avec kilométrage', 'Multicolore',\n",
       "       'Doré', 'Autres', 'Autre', 'Violet', 'Berline', 'Rouge', 'Argent'],\n",
       "      dtype=object)"
      ]
     },
     "execution_count": 15,
     "metadata": {},
     "output_type": "execute_result"
    }
   ],
   "source": [
    "polo.boite.unique()"
   ]
  },
  {
   "cell_type": "code",
   "execution_count": 16,
   "metadata": {},
   "outputs": [
    {
     "data": {
      "text/plain": [
       "array(['Compacte', 'Manuelle', 'Autres', 'Berline', 'Avec kilométrage',\n",
       "       'RS', '1.2', '1.4', '4 x 4', 'Utilitaire', '&lt;1.0', 'Cabriolet',\n",
       "       'Nouveau', '1.1', '1.6', '&gt;4.0', '1.9', '3'], dtype=object)"
      ]
     },
     "execution_count": 16,
     "metadata": {},
     "output_type": "execute_result"
    }
   ],
   "source": [
    "polo.cylindre.unique()"
   ]
  },
  {
   "cell_type": "code",
   "execution_count": 30,
   "metadata": {},
   "outputs": [],
   "source": [
    "data.drop([\"body_style\"],axis=1,inplace=True)\n"
   ]
  },
  {
   "cell_type": "code",
   "execution_count": 32,
   "metadata": {},
   "outputs": [
    {
     "data": {
      "text/html": [
       "<div>\n",
       "<style scoped>\n",
       "    .dataframe tbody tr th:only-of-type {\n",
       "        vertical-align: middle;\n",
       "    }\n",
       "\n",
       "    .dataframe tbody tr th {\n",
       "        vertical-align: top;\n",
       "    }\n",
       "\n",
       "    .dataframe thead th {\n",
       "        text-align: right;\n",
       "    }\n",
       "</style>\n",
       "<table border=\"1\" class=\"dataframe\">\n",
       "  <thead>\n",
       "    <tr style=\"text-align: right;\">\n",
       "      <th></th>\n",
       "      <th>Kms_Driven</th>\n",
       "      <th>year</th>\n",
       "      <th>brand</th>\n",
       "      <th>model</th>\n",
       "      <th>price</th>\n",
       "      <th>Fuel_Type</th>\n",
       "      <th>Horse_pow</th>\n",
       "      <th>city</th>\n",
       "      <th>nb_year</th>\n",
       "    </tr>\n",
       "  </thead>\n",
       "  <tbody>\n",
       "    <tr>\n",
       "      <th>0</th>\n",
       "      <td>1.0</td>\n",
       "      <td>2021</td>\n",
       "      <td>Volkswagen</td>\n",
       "      <td>Polo</td>\n",
       "      <td>12500.0</td>\n",
       "      <td>Diesel</td>\n",
       "      <td>4.0</td>\n",
       "      <td>Ben arous</td>\n",
       "      <td>0</td>\n",
       "    </tr>\n",
       "    <tr>\n",
       "      <th>1</th>\n",
       "      <td>180000.0</td>\n",
       "      <td>2008</td>\n",
       "      <td>Opel</td>\n",
       "      <td>Astra</td>\n",
       "      <td>21500.0</td>\n",
       "      <td>Diesel</td>\n",
       "      <td>1.0</td>\n",
       "      <td>Tunis</td>\n",
       "      <td>13</td>\n",
       "    </tr>\n",
       "    <tr>\n",
       "      <th>2</th>\n",
       "      <td>1.0</td>\n",
       "      <td>2021</td>\n",
       "      <td>Volkswagen</td>\n",
       "      <td>Polo</td>\n",
       "      <td>12500.0</td>\n",
       "      <td>Diesel</td>\n",
       "      <td>4.0</td>\n",
       "      <td>Ben arous</td>\n",
       "      <td>0</td>\n",
       "    </tr>\n",
       "    <tr>\n",
       "      <th>3</th>\n",
       "      <td>180000.0</td>\n",
       "      <td>2008</td>\n",
       "      <td>Opel</td>\n",
       "      <td>Astra</td>\n",
       "      <td>21500.0</td>\n",
       "      <td>Diesel</td>\n",
       "      <td>1.0</td>\n",
       "      <td>Tunis</td>\n",
       "      <td>13</td>\n",
       "    </tr>\n",
       "    <tr>\n",
       "      <th>4</th>\n",
       "      <td>200000.0</td>\n",
       "      <td>1999</td>\n",
       "      <td>Renault</td>\n",
       "      <td>12</td>\n",
       "      <td>111111.0</td>\n",
       "      <td>Essence</td>\n",
       "      <td>4.0</td>\n",
       "      <td>Monastir</td>\n",
       "      <td>22</td>\n",
       "    </tr>\n",
       "  </tbody>\n",
       "</table>\n",
       "</div>"
      ],
      "text/plain": [
       "   Kms_Driven  year       brand  model     price Fuel_Type  Horse_pow  \\\n",
       "0         1.0  2021  Volkswagen   Polo   12500.0    Diesel        4.0   \n",
       "1    180000.0  2008        Opel  Astra   21500.0    Diesel        1.0   \n",
       "2         1.0  2021  Volkswagen   Polo   12500.0    Diesel        4.0   \n",
       "3    180000.0  2008        Opel  Astra   21500.0    Diesel        1.0   \n",
       "4    200000.0  1999     Renault     12  111111.0   Essence        4.0   \n",
       "\n",
       "        city  nb_year  \n",
       "0  Ben arous        0  \n",
       "1      Tunis       13  \n",
       "2  Ben arous        0  \n",
       "3      Tunis       13  \n",
       "4   Monastir       22  "
      ]
     },
     "execution_count": 32,
     "metadata": {},
     "output_type": "execute_result"
    }
   ],
   "source": [
    "#data.drop([\"Unnamed: 0\"],axis=1,inplace=True)\n",
    "data=data[data['Horse_pow']<20]\n",
    "\n",
    "data.head()\n"
   ]
  },
  {
   "cell_type": "code",
   "execution_count": 33,
   "metadata": {},
   "outputs": [],
   "source": [
    "data.to_csv(\"clean_tayara_cars.csv\")"
   ]
  },
  {
   "cell_type": "code",
   "execution_count": null,
   "metadata": {
    "collapsed": true
   },
   "outputs": [],
   "source": [
    "data = data.groupby('brand').filter(lambda x: len(x) > 50)\n",
    "data['brand'].value_counts()"
   ]
  }
 ],
 "metadata": {
  "kernelspec": {
   "display_name": "Python 3",
   "language": "python",
   "name": "python3"
  },
  "language_info": {
   "codemirror_mode": {
    "name": "ipython",
    "version": 3
   },
   "file_extension": ".py",
   "mimetype": "text/x-python",
   "name": "python",
   "nbconvert_exporter": "python",
   "pygments_lexer": "ipython3",
   "version": "3.8.3"
  }
 },
 "nbformat": 4,
 "nbformat_minor": 4
}
